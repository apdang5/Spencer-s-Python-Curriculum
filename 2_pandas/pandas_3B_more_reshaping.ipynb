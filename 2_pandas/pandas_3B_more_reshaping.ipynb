{
 "cells": [
  {
   "cell_type": "markdown",
   "metadata": {},
   "source": [
    "# Reshaping without MultiIndex\n",
    "\n",
    "Files needed = (dogs.csv, Metro_Median_RentalPrice_1Bedroom.csv)\n",
    "\n",
    "Our last notebook taught us about MultiIndex. The MultiIndex is a great way to organize our data and it provided an easy way to reshape our data: moving some variables from rows to columns and vice-versa. \n",
    "\n",
    "In this notebook, we learn about two related methods `pivot_table()` and `melt()` which allow us to reshape our data without using a MultiIndex. Sometimes, we want to reshape the data before we deal with indexing, and pivot and melt can save us some work."
   ]
  },
  {
   "cell_type": "code",
   "execution_count": null,
   "metadata": {},
   "outputs": [],
   "source": [
    "import pandas as pd                 # load pandas and shorten it to pd\n",
    "import datetime as dt               # load datetime and shorten it to dt\n",
    "import matplotlib.pyplot as plt     # for making figures"
   ]
  },
  {
   "cell_type": "markdown",
   "metadata": {},
   "source": [
    "## Panel data\n",
    "Panel data have (at least) three dimensions, for example, a panel might record\n",
    "1. several variables (income, age, spending on cheese)\n",
    "2. regarding several people\n",
    "3. over time\n",
    "\n",
    "Let's revisit the data on my dogs --- this time, without MultiIndex."
   ]
  },
  {
   "cell_type": "code",
   "execution_count": null,
   "metadata": {},
   "outputs": [],
   "source": [
    "# load a data file with the number of walks and snacks my dogs have had \n",
    "dogs = pd.read_csv('dogs.csv')         # data on the habits of my dogs\n",
    "dogs\n"
   ]
  },
  {
   "cell_type": "markdown",
   "metadata": {},
   "source": [
    "This data format is called **long** because there are lots of rows and not many columns. Moving between long and **wide** (lots of columns, fewer rows) is a common task in setting up panel data sets. \n",
    "\n",
    "Pandas calls long data **stacked** and wide data **unstacked**.\n",
    "\n",
    "**With a MultiIndex:**\n",
    " We use the `stack()` and `unstack()` methods for moving between long and wide with MultiIndexed data. Stack and unstack do not work in place. They always return a copy, so we need to assign it to variables.\n",
    "\n",
    "**Without a MultiIndex:**\n",
    "We use the `pivot_table()` and `melt()` methods to move between long and wide data."
   ]
  },
  {
   "cell_type": "markdown",
   "metadata": {},
   "source": [
    "### From long to wide\n",
    "We start by pivoting the data to wide from long (the [docs](http://pandas.pydata.org/pandas-docs/stable/generated/pandas.DataFrame.pivot.html#pandas.DataFrame.pivot)). It moves rows into columns.\n",
    "\n",
    "Instead of referencing indexes, we are referencing columns in the long data. We tell pivot_table which column will be the index of the wide data, which columns will be the columns of the wide data, and which column hold the values of the columns. "
   ]
  },
  {
   "cell_type": "code",
   "execution_count": null,
   "metadata": {},
   "outputs": [],
   "source": [
    "# Make time variables datetime objects. Always a good practice.\n",
    "dogs['time'] = pd.to_datetime(dogs['time'])\n",
    "\n",
    "# Make th \n",
    "dogs_wide = dogs.pivot_table(index='time', columns=['dog', 'var'], values='value')\n",
    "dogs_wide"
   ]
  },
  {
   "cell_type": "markdown",
   "metadata": {},
   "source": [
    "A nice result. We basically jumped right to a panel. Notice that the order in which we pass columns determines the level of the MultiIndex. \n",
    "\n",
    "Now that I have a MultiIndexed 'wide' DataFrame, I turn it into a 'long' DataFrame frame using `stack()`, since `stack()` knows what to do with multiple indexes. "
   ]
  },
  {
   "cell_type": "code",
   "execution_count": null,
   "metadata": {},
   "outputs": [],
   "source": [
    "dogs_long = dogs_wide.stack(['dog', 'var'])\n",
    "dogs_long"
   ]
  },
  {
   "cell_type": "markdown",
   "metadata": {},
   "source": [
    "### From wide to long\n",
    "The `melt()` method gets us from a wide DataFrame to a long DataFrame (the [docs](https://pandas.pydata.org/pandas-docs/stable/generated/pandas.DataFrame.melt.html#pandas.DataFrame.melt)). It moves columns into rows.\n",
    "\n",
    "Let's use the data from Zillow on one bedroom rental prices by metro area, 'Metro_Median_RentalPrice_1Bedroom.csv'."
   ]
  },
  {
   "cell_type": "code",
   "execution_count": null,
   "metadata": {},
   "outputs": [],
   "source": [
    "onebeds = pd.read_csv('Metro_MedianRentalPrice_1Bedroom.csv')\n",
    "onebeds.head()"
   ]
  },
  {
   "cell_type": "markdown",
   "metadata": {},
   "source": [
    "These data are wide. There is only one variable here: the median rental price of a one bedroom apartment. \n",
    "\n",
    "Use `melt()` to create a long DataFrame. We provide melt with the id_vars, which tell it the variables to group the data by. "
   ]
  },
  {
   "cell_type": "code",
   "execution_count": null,
   "metadata": {},
   "outputs": [],
   "source": [
    "onebeds_long = onebeds.melt(id_vars=['RegionName', 'SizeRank']) \n",
    "onebeds_long.head()\n"
   ]
  },
  {
   "cell_type": "markdown",
   "metadata": {},
   "source": [
    "I'm a little surprised this didn't create a MultiIndex on the row axis, like pivot( ) did on the column axis above. We can certainly turn it into a MultiIndex... "
   ]
  },
  {
   "cell_type": "code",
   "execution_count": null,
   "metadata": {},
   "outputs": [],
   "source": [
    "onebeds_long.set_index(['RegionName', 'variable'], inplace=True)\n",
    "onebeds_long.head()"
   ]
  },
  {
   "cell_type": "code",
   "execution_count": null,
   "metadata": {},
   "outputs": [],
   "source": [
    "# might as well clean up the column names\n",
    "onebeds_long.rename(columns={'value':'onebed_price', 'SizeRank':'size_rank'}, inplace=True)\n",
    "onebeds_long.head()"
   ]
  },
  {
   "cell_type": "code",
   "execution_count": null,
   "metadata": {},
   "outputs": [],
   "source": [
    "# and the index names\n",
    "onebeds_long.index.set_names('region', level=0, inplace=True)\n",
    "onebeds_long.index.set_names('date', level=1, inplace=True)\n",
    "onebeds_long.head()"
   ]
  },
  {
   "cell_type": "markdown",
   "metadata": {},
   "source": [
    "Now there is a nice and clean dataset. "
   ]
  },
  {
   "cell_type": "markdown",
   "metadata": {},
   "source": [
    "## Practice\n",
    "\n",
    "Let's try some more reshaping. Take a few minutes and try the following. Feel free to chat with those around if you get stuck. The TA and I are here, too.\n",
    "\n",
    "1. Load 'broadband.csv'. The file contains gdp per capita and broadband penetration data for several countries. Are the data long or wide?"
   ]
  },
  {
   "cell_type": "code",
   "execution_count": null,
   "metadata": {},
   "outputs": [],
   "source": []
  },
  {
   "cell_type": "markdown",
   "metadata": {},
   "source": [
    "2. Set country and series as the index."
   ]
  },
  {
   "cell_type": "code",
   "execution_count": null,
   "metadata": {},
   "outputs": [],
   "source": []
  },
  {
   "cell_type": "markdown",
   "metadata": {},
   "source": [
    "3. Create a DataFrame with broadband and gdppc as columns, country as rows."
   ]
  },
  {
   "cell_type": "code",
   "execution_count": null,
   "metadata": {},
   "outputs": [],
   "source": []
  },
  {
   "cell_type": "markdown",
   "metadata": {},
   "source": [
    "4. Reload the broadband data file to a new DataFrame.\n",
    "5. Create the DataFrame you have for part 3., but do it using melt or pivot_table."
   ]
  },
  {
   "cell_type": "code",
   "execution_count": null,
   "metadata": {},
   "outputs": [],
   "source": []
  },
  {
   "cell_type": "markdown",
   "metadata": {},
   "source": [
    "6. Make a scatter plot of gdp per capita against broadband penetration."
   ]
  },
  {
   "cell_type": "code",
   "execution_count": null,
   "metadata": {},
   "outputs": [],
   "source": []
  },
  {
   "cell_type": "markdown",
   "metadata": {},
   "source": [
    "7. Save your DataFrame as 'broadband_wide.csv'"
   ]
  },
  {
   "cell_type": "code",
   "execution_count": null,
   "metadata": {},
   "outputs": [],
   "source": []
  },
  {
   "cell_type": "markdown",
   "metadata": {},
   "source": [
    "8. Read 'broadband_wide.csv' into a DataFrame named `bb_wide`"
   ]
  },
  {
   "cell_type": "code",
   "execution_count": null,
   "metadata": {},
   "outputs": [],
   "source": []
  },
  {
   "cell_type": "markdown",
   "metadata": {},
   "source": [
    "9. Turn bb_wide into a long dataset using pivot_table/melt"
   ]
  },
  {
   "cell_type": "code",
   "execution_count": null,
   "metadata": {},
   "outputs": [],
   "source": []
  }
 ],
 "metadata": {
  "celltoolbar": "Attachments",
  "kernelspec": {
   "display_name": "Python 3",
   "language": "python",
   "name": "python3"
  },
  "language_info": {
   "codemirror_mode": {
    "name": "ipython",
    "version": 3
   },
   "file_extension": ".py",
   "mimetype": "text/x-python",
   "name": "python",
   "nbconvert_exporter": "python",
   "pygments_lexer": "ipython3",
   "version": "3.6.5"
  }
 },
 "nbformat": 4,
 "nbformat_minor": 2
}
