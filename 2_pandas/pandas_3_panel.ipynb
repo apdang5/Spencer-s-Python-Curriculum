{
 "cells": [
  {
   "cell_type": "markdown",
   "metadata": {},
   "source": [
    "# Multidimensional data in pandas\n",
    "\n",
    "Files needed = (dogs.csv, WEOOct2016all.xls)\n",
    "\n",
    "We have covered some pandas basics and learned how to plot. Now let's sort out how to deal with more complex data. We will often find ourselves with data in which the unit of observation is complex. Pandas helps us deal with this by allowing for many index variables. So far, we have only used single indexing, but that is about to change. \n",
    "\n",
    "Some examples that could use a multiIndex\n",
    "1. State and country\n",
    "2. Team and player\n",
    "3. Industry and firm\n",
    "4. Country (or person, firm,...) and time\n",
    "\n",
    "That last one is important, and one that shows up a lot in economics. We call is *panel data*. Panel data is sometimes called longitudinal data. It follows the same firm/person/country over time. "
   ]
  },
  {
   "cell_type": "code",
   "execution_count": null,
   "metadata": {},
   "outputs": [],
   "source": [
    "import pandas as pd                 # load pandas and shorten it to pd\n",
    "import datetime as dt               # load datetime and shorten it to dt\n",
    "import matplotlib.pyplot as plt     # for making figures"
   ]
  },
  {
   "cell_type": "code",
   "execution_count": null,
   "metadata": {},
   "outputs": [],
   "source": [
    "soccer = {'team' : ['Man City', 'Man City', 'Man City', 'Man City', 'Chelsea', 'Chelsea'], \n",
    "          'player' : ['Walker', 'Stones', 'Foden', 'Jesus', 'Cahill', 'Pedro'],\n",
    "          'pos' : ['D', 'D', 'M', 'F', 'D', 'F'],\n",
    "          'goals' : [1, 0, 0, 1, 0, 3],\n",
    "          'assists': [0,0,0,0,0,0]\n",
    "         }\n",
    "\n",
    "prem = pd.DataFrame(soccer)\n",
    "prem"
   ]
  },
  {
   "cell_type": "markdown",
   "metadata": {},
   "source": [
    "### Multiple indexing\n",
    "The key to working with more complex datasets is getting the index right. So far, we have considered a single index, but pandas allows for multiple indexes that nest each other. \n",
    "\n",
    "**Key concept:** Hierarchical indexing takes multiple *levels* of indexes. \n",
    "\n",
    "Let's set up the DataFrame to take team and position as the indexes. "
   ]
  },
  {
   "cell_type": "code",
   "execution_count": null,
   "metadata": {},
   "outputs": [],
   "source": [
    "prem.set_index(['team', 'pos'], inplace=True)\n",
    "prem"
   ]
  },
  {
   "cell_type": "markdown",
   "metadata": {},
   "source": [
    "Wow. \n",
    "\n",
    "Notice that the `set_index()` method is the same one we used early with single indexes. In this case, we passed it a list of variables to make the indexes\n",
    "```python\n",
    "prem.set_index(['team', 'pos'], inplace=True)\n",
    "```\n",
    "\n",
    "In the output, the highest level of the index is team (we passed it 'team' first in the list) and the second level is position. The output does not repeat the team name for each observation. The 'missing' team name just mean that the team is the same as above. \\[A very Tufte-esque removal of unnecessary ink.\\] \n",
    "\n",
    "Let's take a look under the hood. What's our index? A new kind of object: the MultiIndex"
   ]
  },
  {
   "cell_type": "code",
   "execution_count": null,
   "metadata": {},
   "outputs": [],
   "source": [
    "print(prem.index)"
   ]
  },
  {
   "cell_type": "markdown",
   "metadata": {},
   "source": [
    "### Subsetting with multiple indexes\n",
    "With a multi index, we need two arguments to reference observations"
   ]
  },
  {
   "cell_type": "code",
   "execution_count": null,
   "metadata": {},
   "outputs": [],
   "source": [
    "# All the defenders on Man City\n",
    "prem.loc[('Man City', 'D'),:] "
   ]
  },
  {
   "cell_type": "markdown",
   "metadata": {},
   "source": [
    "It's always a good idea to pay attention to warnings, particularly 'PerformanceWarning'. Pandas is telling us that we are asking for something in the second index, but the second index is not ordered. If the index was big, this could slow down our program. Let's fix that with `sort_index()`.\n",
    "\n",
    "**Important** Sort your mulitIndex. "
   ]
  },
  {
   "cell_type": "code",
   "execution_count": null,
   "metadata": {},
   "outputs": [],
   "source": [
    "prem = prem.sort_index(axis=0)   # tell pandas which axis to sort. Could sort the columns, too...\n",
    "                                 # returns a DataFrame unless we use inplace=True\n",
    "prem"
   ]
  },
  {
   "cell_type": "code",
   "execution_count": null,
   "metadata": {},
   "outputs": [],
   "source": [
    "# Now let's ask for all the defenders on Man City\n",
    "prem.loc[('Man City', 'D'), :]"
   ]
  },
  {
   "cell_type": "markdown",
   "metadata": {},
   "source": [
    "No warnings. \n",
    "\n",
    "### Partial indexing\n",
    "With the indexes set, we can easily subset the data using only one of the indexes. In pandas, this is called *partial indexing* because we are only using part of the index to subset identify the data we want. \n",
    "\n",
    "We can use `loc[]` like we do with a single index if we want to index on the top level index."
   ]
  },
  {
   "cell_type": "code",
   "execution_count": null,
   "metadata": {},
   "outputs": [],
   "source": [
    "print(prem.loc['Chelsea'])               # All the 'Chelsea' observations\n",
    "print('\\n')\n",
    "print(prem.loc['Man City'])              # All the 'Man City' observations"
   ]
  },
  {
   "cell_type": "markdown",
   "metadata": {},
   "source": [
    "#### The xs() method\n",
    "We can also use the `xs()` method. Here we specify which level we are looking into. Note that I can reference the levels either by an integer or by its name."
   ]
  },
  {
   "cell_type": "code",
   "execution_count": null,
   "metadata": {},
   "outputs": [],
   "source": [
    "print(prem.xs('Chelsea', level = 0) )              # All the 'Chelsea' observations\n",
    "print('\\n')\n",
    "print(prem.xs('Man City', level = 'team'))              # All the 'Man City' observations"
   ]
  },
  {
   "cell_type": "markdown",
   "metadata": {},
   "source": [
    "We can partially index on the 'inner index' as well. Suppose we want all the defenders, regardless of team."
   ]
  },
  {
   "cell_type": "code",
   "execution_count": null,
   "metadata": {},
   "outputs": [],
   "source": [
    "prem.xs('D', level=1)"
   ]
  },
  {
   "cell_type": "markdown",
   "metadata": {},
   "source": [
    "As before, we can get rid of the index and replace it with a generic list of integers..."
   ]
  },
  {
   "cell_type": "code",
   "execution_count": null,
   "metadata": {},
   "outputs": [],
   "source": [
    "prem.reset_index(inplace=True)    # this moves the indexes back to columns\n",
    "prem"
   ]
  },
  {
   "cell_type": "markdown",
   "metadata": {},
   "source": [
    "...and reset it with three levels of indexes!"
   ]
  },
  {
   "cell_type": "code",
   "execution_count": null,
   "metadata": {},
   "outputs": [],
   "source": [
    "prem.set_index(['team', 'player', 'pos'], inplace=True)\n",
    "prem"
   ]
  },
  {
   "cell_type": "markdown",
   "metadata": {},
   "source": [
    "#### A multiIndex in columns\n",
    "There is nothing that says you can't have multiple indexes in the axis=1 dimension. Here is quick way to see this: transpose the DataFrame."
   ]
  },
  {
   "cell_type": "code",
   "execution_count": null,
   "metadata": {},
   "outputs": [],
   "source": [
    "prem = prem.transpose()           # this swaps the rows for columns\n",
    "print(prem)                       # print() lines up the columns well"
   ]
  },
  {
   "cell_type": "markdown",
   "metadata": {},
   "source": [
    "Now the rows are named 'goals' and 'assists' and the columns are (team, player, pos). I'm not sure this is a very useful way to look at this particular dataset, but multiIndex columns can come in handy. Let's change it back."
   ]
  },
  {
   "cell_type": "code",
   "execution_count": null,
   "metadata": {},
   "outputs": [],
   "source": [
    "prem = prem.transpose()\n",
    "prem"
   ]
  },
  {
   "cell_type": "markdown",
   "metadata": {},
   "source": [
    "### Summary statistics by level\n",
    "MultiIndexes provide a quick way to summarize data. We will see many different ways to do this --- getting statistics by group --- and not all will involve a multiIndex. "
   ]
  },
  {
   "cell_type": "code",
   "execution_count": null,
   "metadata": {},
   "outputs": [],
   "source": [
    "# When subsetting by the upppermost level, I can use xs or loc\n",
    "print('Chelsea avg. goals', prem.xs('Chelsea', level='team')['goals'].mean())   # average goals for Chelsea players\n",
    "print('Chelsea avg. goals', prem.loc['Chelsea','goals'].mean())   # average goals for Chelsea players\n",
    "\n",
    "# When subsetting on the inner levels, I use xs \n",
    "print('Defender avg. goals {0:.2f}.'.format( prem.xs('D', level='pos')['goals'].mean() ) )          # average goals for defenders"
   ]
  },
  {
   "cell_type": "markdown",
   "metadata": {},
   "source": [
    "Notice the syntax with xs.\n",
    "```python\n",
    " prem.xs('Chelsea', level='team')['goals']\n",
    "```\n",
    "\n",
    "The `prem.xs('Chelsea', level='team')` is returning a DataFrame with all the columns. \n",
    "\n",
    "We then use the usual square-bracket syntax to pick off just the column 'goals' and then hit with `mean()`\n"
   ]
  },
  {
   "cell_type": "markdown",
   "metadata": {},
   "source": [
    "### Saving multiIndex DataFrames\n",
    "Saving a multiIndexed DataFrame works like before. Pandas fills in all the repeated labels to the output is ready to go. Run the following code and then open the csv files."
   ]
  },
  {
   "cell_type": "code",
   "execution_count": null,
   "metadata": {},
   "outputs": [],
   "source": [
    "# Multiple indexes on rows\n",
    "prem.to_csv('prem.csv')\n",
    "\n",
    "# Multiple indexes on columns\n",
    "prem = prem.transpose()\n",
    "prem.to_csv('prem_transposed.csv')"
   ]
  },
  {
   "cell_type": "markdown",
   "metadata": {},
   "source": [
    "## Practice\n",
    "\n",
    "Let's redo question \\#3 on the exam using multiIndexes.  \n",
    "\n",
    "1. Load the march cps data, 'CPS_March_2016.csv'. Remember, missing values are '.'"
   ]
  },
  {
   "cell_type": "code",
   "execution_count": null,
   "metadata": {},
   "outputs": [],
   "source": []
  },
  {
   "cell_type": "markdown",
   "metadata": {},
   "source": [
    "2. Keep only those with `fulltimely == 1`\n",
    "3. Keep only those with `5 <= hrwage <= 200`"
   ]
  },
  {
   "cell_type": "code",
   "execution_count": null,
   "metadata": {},
   "outputs": [],
   "source": []
  },
  {
   "cell_type": "markdown",
   "metadata": {},
   "source": [
    "4. Rename 'female' to 'sex'\n",
    "5. In column 'sex' replace 0 with 'male' and 1 with 'female'"
   ]
  },
  {
   "cell_type": "code",
   "execution_count": null,
   "metadata": {},
   "outputs": [],
   "source": []
  },
  {
   "cell_type": "markdown",
   "metadata": {},
   "source": [
    "6. Set the index to 'sex' and 'educ', in that order.\n",
    "7. Sort the index. "
   ]
  },
  {
   "cell_type": "code",
   "execution_count": null,
   "metadata": {},
   "outputs": [],
   "source": []
  },
  {
   "cell_type": "markdown",
   "metadata": {},
   "source": [
    "8. Report the average wage for males and females. Try it with the `loc[]` method. "
   ]
  },
  {
   "cell_type": "code",
   "execution_count": null,
   "metadata": {},
   "outputs": [],
   "source": []
  },
  {
   "cell_type": "markdown",
   "metadata": {},
   "source": [
    "9. Report the average wage for `HS diploma/GED` and for `College degree`, regardless of sex. Use the `xs()` method.  "
   ]
  },
  {
   "cell_type": "code",
   "execution_count": null,
   "metadata": {},
   "outputs": [],
   "source": []
  },
  {
   "cell_type": "markdown",
   "metadata": {},
   "source": [
    "## Panel data\n",
    "Panel data have (at least) three dimensions, for example, a panel might record\n",
    "1. several variables (income, age, spending on cheese)\n",
    "2. regarding several people\n",
    "3. over time\n",
    "\n",
    "The multiIndex gives us a natural way to handle this data. "
   ]
  },
  {
   "cell_type": "code",
   "execution_count": null,
   "metadata": {},
   "outputs": [],
   "source": [
    "# load a data file with the number of walks and snacks my dogs have had \n",
    "dogs = pd.read_csv('dogs.csv')         # data on the habits of my dogs\n",
    "dogs\n"
   ]
  },
  {
   "cell_type": "markdown",
   "metadata": {},
   "source": [
    "This data format is called **long** because there are lots of rows and not many columns. Moving between long and **wide** (lots of columns, fewer rows) is a common task in setting up panel data sets. \n",
    "\n",
    "Pandas calls long data **stacked** and wide data **unstacked**. We use the `stack()` and `unstack()` methods for moving between long and wide with multiIndexed data. Stack and unstack do not work in place. They always return a copy, so we need to assign it to variables."
   ]
  },
  {
   "cell_type": "code",
   "execution_count": null,
   "metadata": {},
   "outputs": [],
   "source": [
    "dogs['time'] = pd.to_datetime(dogs['time'])\n",
    "\n",
    "# move everything but the data values to the index\n",
    "dogs = dogs.set_index(['dog', 'time', 'var'])\n",
    "dogs"
   ]
  },
  {
   "cell_type": "markdown",
   "metadata": {},
   "source": [
    "### Unstack\n",
    "We **unstack the data** to put the variables into columns. "
   ]
  },
  {
   "cell_type": "code",
   "execution_count": null,
   "metadata": {},
   "outputs": [],
   "source": [
    "dogs_us = dogs.unstack('var') # move var to columns creates a multiindex with two levels\n",
    "dogs_us\n"
   ]
  },
  {
   "cell_type": "markdown",
   "metadata": {},
   "source": [
    "We can unstack several variables. As usual, we pass a list. "
   ]
  },
  {
   "cell_type": "code",
   "execution_count": null,
   "metadata": {},
   "outputs": [],
   "source": [
    "dogs_us = dogs.unstack(['dog', 'var']) # move dog and var to columns, creates a multiindex with three levels\n",
    "dogs_us"
   ]
  },
  {
   "cell_type": "markdown",
   "metadata": {},
   "source": [
    "### Removing a level\n",
    "The outermost level of the column multiIndex is 'value' and is not very useful. Let's drop it."
   ]
  },
  {
   "cell_type": "code",
   "execution_count": null,
   "metadata": {},
   "outputs": [],
   "source": [
    "dogs_us.columns = dogs_us.columns.droplevel(level = 0)\n",
    "dogs_us"
   ]
  },
  {
   "cell_type": "markdown",
   "metadata": {},
   "source": [
    "We now have an unstacked DataFrame and each column is a time series of one dog's observations (the data are 'wide'). \n",
    "Notice that we do not have observations for Thursday's walks, so panda filled in NaNs for us. \n",
    "\n",
    "Panel data like this are STATA's bread and butter, and STATA has a lot of tools for working with panels. Pandas does not have as large a toolset, but the multiIndex provides a very nice way to handle and display panel data. STATA does not have a multiIndex, so the column names in the data above would be: 'walkBuster' 'snacksBuster' 'walkSu' 'snacksSu'. "
   ]
  },
  {
   "cell_type": "markdown",
   "metadata": {},
   "source": [
    "### Creating new variables\n",
    "I want to know the walk-to-snacks ratio to make sure they are getting enough exercise. "
   ]
  },
  {
   "cell_type": "code",
   "execution_count": null,
   "metadata": {
    "scrolled": true
   },
   "outputs": [],
   "source": [
    "# compute the ratios\n",
    "dogs_us[('Buster', 'ws_ratio')] =  dogs_us[('Buster', 'walk')]/dogs_us[('Buster', 'snacks')]\n",
    "dogs_us[('Su', 'ws_ratio')] =  dogs_us[('Su', 'walk')]/dogs_us[('Su', 'snacks')]\n",
    "\n",
    "# resort the index\n",
    "dogs_us.sort_index(axis=1, inplace=True)\n",
    "dogs_us\n"
   ]
  },
  {
   "cell_type": "markdown",
   "metadata": {},
   "source": [
    "Let's plot the walk-snack ratio. There are several things in this code to talk about..."
   ]
  },
  {
   "cell_type": "code",
   "execution_count": null,
   "metadata": {
    "scrolled": false
   },
   "outputs": [],
   "source": [
    "import matplotlib.dates as mdates\n",
    "\n",
    "fig, ax = plt.subplots(figsize=(15,6))\n",
    "\n",
    "ax.plot(dogs_us.index, dogs_us[('Buster', 'ws_ratio')], color='red', marker = 'o', label='Buster')\n",
    "ax.plot(dogs_us.index, dogs_us[('Su', 'ws_ratio')], color='blue', marker = 'o', label='Su')\n",
    "\n",
    "ax.spines['top'].set_visible(False)\n",
    "ax.spines['right'].set_visible(False)\n",
    "ax.set_title('Walk-snack ratio')\n",
    "ax.legend(frameon=False)\n",
    "\n",
    "# Here I am formatting the x-axis dates\n",
    "ax.set_xticks(dogs_us.index)                                  # put ticks only where we have observations\n",
    "ax.xaxis.set_major_formatter(mdates.DateFormatter(\"%m-%d\"))   #show the month and day\n",
    "\n",
    "plt.show()\n",
    "\n",
    "#ax.plot(dogs_us.index, dogs_us.xs('ws_ratio', level=1, axis=1))\n",
    "#ax.legend(dogs_us.columns.get_level_values(level='dog').unique())"
   ]
  },
  {
   "cell_type": "code",
   "execution_count": null,
   "metadata": {},
   "outputs": [],
   "source": [
    "# Here is get_level_values\n",
    "dogs_us.columns.get_level_values(level='dog')"
   ]
  },
  {
   "cell_type": "markdown",
   "metadata": {},
   "source": [
    "### An aside on datetime axes\n",
    "I am exerting some control over the x-axis ticks and labels here. \n",
    "```python\n",
    "ax.set_xticks(dogs_us.index)   \n",
    "```\n",
    "specifies that I want ticks at the values in the index --- and only at these places.\n",
    "\n",
    "The code\n",
    "```python \n",
    "ax.xaxis.set_major_formatter(mdates.DateFormatter(\"%m-%d\"))\n",
    "```\n",
    "tells matplotlib to format the tick labels as month-day. To use this second line of code, I needed to import the mdates (**m**atplotlib **dates**) part of the matplotlib package."
   ]
  },
  {
   "cell_type": "code",
   "execution_count": null,
   "metadata": {},
   "outputs": [],
   "source": [
    "fig, ax = plt.subplots(figsize=(15,6))\n",
    "\n",
    "# Here, I use xs to grab the walk-snack ratios for all the dogs and plot them\n",
    "ax.plot(dogs_us.index, dogs_us.xs('ws_ratio', level=1, axis=1))\n",
    "\n",
    "ax.spines['top'].set_visible(False)\n",
    "ax.spines['right'].set_visible(False)\n",
    "ax.set_title('Walk-snack ratio')\n",
    "\n",
    "# Here I am formatting the x-axis dates\n",
    "ax.set_xticks(dogs_us.index)                                  # put ticks only where we have observations\n",
    "ax.xaxis.set_major_formatter(mdates.DateFormatter(\"%m-%d\"))   #show the month and day\n",
    "\n",
    "\n",
    "# The legend is more complicated...I bet there is a better way\n",
    "# I use get_level_values to retrieve the column names at the dog level\n",
    "# I use the unique() method to remove the duplicates\n",
    "legend_labels = dogs_us.columns.get_level_values(level='dog').unique()\n",
    "ax.legend(legend_labels, frameon=False)\n",
    "\n",
    "plt.show()\n",
    "\n"
   ]
  },
  {
   "cell_type": "markdown",
   "metadata": {},
   "source": [
    "### Stack\n",
    "We can **stack the data** to put the variables back on the rows. \n",
    "\n",
    "When we unstack the data, pandas defaults to dropping the NaNs. We can override this if we choose. If we do not pass an argument, it stacks the innermost index. "
   ]
  },
  {
   "cell_type": "code",
   "execution_count": null,
   "metadata": {},
   "outputs": [],
   "source": [
    "# stack just one level\n",
    "dogs_s = dogs_us.stack()       # stack shifts the columns to rows. \n",
    "dogs_s"
   ]
  },
  {
   "cell_type": "code",
   "execution_count": null,
   "metadata": {},
   "outputs": [],
   "source": [
    "# stack two levels (and keep the missings)\n",
    "dogs_s = dogs_us.stack(['dog', 'var'], dropna=False)\n",
    "dogs_s"
   ]
  },
  {
   "cell_type": "markdown",
   "metadata": {},
   "source": [
    "The data are back to 'long' form. Note that we have series now, and not a DataFrame. \n",
    "\n",
    "I would like dog as the outermost index. Use the `swaplevel()` to swap two levels. "
   ]
  },
  {
   "cell_type": "code",
   "execution_count": null,
   "metadata": {},
   "outputs": [],
   "source": [
    "dogs_s=dogs_s.swaplevel('dog', 'time')\n",
    "dogs_s"
   ]
  },
  {
   "cell_type": "code",
   "execution_count": null,
   "metadata": {},
   "outputs": [],
   "source": [
    "# and swap var for time, so time is the innermost index\n",
    "dogs_s=dogs_s.swaplevel('var', 'time')\n",
    "dogs_s"
   ]
  },
  {
   "cell_type": "code",
   "execution_count": null,
   "metadata": {},
   "outputs": [],
   "source": [
    "# and give it a sorting...\n",
    "dogs_s.sort_index(inplace=True)\n",
    "dogs_s"
   ]
  },
  {
   "cell_type": "markdown",
   "metadata": {},
   "source": [
    "Let's get this ready to save as long data, like it was when we read it in.\n",
    "1. Reset the index to move them back to columns\n",
    "2. Give the value column a name"
   ]
  },
  {
   "cell_type": "code",
   "execution_count": null,
   "metadata": {},
   "outputs": [],
   "source": [
    "dogs_s = dogs_s.reset_index()\n",
    "dogs_s"
   ]
  },
  {
   "cell_type": "code",
   "execution_count": null,
   "metadata": {},
   "outputs": [],
   "source": [
    "dogs_s.rename(columns={0 :'value'}, inplace=True)\n",
    "dogs_s"
   ]
  },
  {
   "cell_type": "code",
   "execution_count": null,
   "metadata": {},
   "outputs": [],
   "source": [
    "# Now save it. \n",
    "dogs_s.to_csv('dog_data_updated.csv', index=False)  #index = False does not print the index"
   ]
  },
  {
   "cell_type": "markdown",
   "metadata": {},
   "source": [
    "## Practice\n",
    "\n",
    "Let's review multiIndexing with some real world data. The data are messy and will require some cleaning up and 'wrangling.' We will do some of it together, then I'll  hand it off for you all to finish. \n",
    "\n",
    "We will work with the IMF's [World Economic Outlook](https://www.imf.org/external/pubs/ft/weo/2017/02/weodata/download.aspx), which contains historical data and the IMF's forecasts for many countries and variables. \n",
    "\n",
    "Our **goal** is to study the evolution of debt in Germany, Argentina, and Greece. \n",
    "\n",
    "First, download the data file and open it in Excel. The file is here [http://www.imf.org/external/pubs/ft/weo/2016/02/weodata/WEOOct2016all.xls](http://www.imf.org/external/pubs/ft/weo/2016/02/weodata/WEOOct2016all.xls). Clicking on the link should initiate a download.\n",
    "\n",
    "Wow, there is a lot going on here. Let's get to work."
   ]
  },
  {
   "cell_type": "markdown",
   "metadata": {},
   "source": [
    "### Read the data into a DataFrame\n",
    "Read in the data, then inspect the head and tail to make sure it looks as expected."
   ]
  },
  {
   "cell_type": "code",
   "execution_count": null,
   "metadata": {},
   "outputs": [],
   "source": [
    "# The IMF website is acting up and the url doesn't always work\n",
    "# url = 'http://www.imf.org/external/pubs/ft/weo/2016/02/weodata/WEOOct2016all.xls'\n",
    "\n",
    "# The data are in a tab-separated list (even though the file ends in 'xls'. not cool, IMF)\n",
    "# The thousands parameter tells pandas to remove the comma when reading in numbers\n",
    "weo = pd.read_csv('WEOOct2016all.xls', sep='\\t', na_values=['n/a', '--'], thousands =',')\n",
    "weo.head()\n"
   ]
  },
  {
   "cell_type": "markdown",
   "metadata": {},
   "source": [
    "### A quick aside about encoding\n",
    "What the heck just happened? What is a `UnicodeDecodeError`?\n",
    "\n",
    "Any 'text' character (be it latin, cyrilic, korean, chinese,...) must be translated to a series of 0s and 1s in order for a computer to understand it. This translation is known as an encoding. As computers developed, many different groups created many different encodings (e.g., ASCII), so the letter 'K' may translate to 0010 in one encoding and 00100101 in another. What a mess. \n",
    "\n",
    "At some point [Unicode](https://en.wikipedia.org/wiki/Unicode) was developed to serve as one standard encoding. Pandas defaults to utf-8 encoding. The world is converging on unicode, but other encoding are still out there. \n",
    "\n",
    "The error message tells us that the IMF is not encoding its ~~workbook~~ tab-delimited file as utf-8. After a bit of digging, I found the file to be encoded in 'windows-1252'. (Now is not the time for a discussion of the bureaucratic nightmares of large international organizations, but this is a nice example.) \n",
    "\n",
    "That's probably more than you ever wanted to know about text, but it's a scary world out there. If you try reading a file and pandas throws a unicode error, then you probably need to change the encoding. \n",
    "\n",
    "The `read_` methods of pandas (and other python methods) takes a parameter `encoding` to specify the file encoding. When we do not specify the encoding, pandas defaults to utf-8. Let's add the encoding parameter and try again."
   ]
  },
  {
   "cell_type": "code",
   "execution_count": null,
   "metadata": {},
   "outputs": [],
   "source": [
    "# url = 'http://www.imf.org/external/pubs/ft/weo/2016/02/weodata/WEOOct2016all.xls'\n",
    "\n",
    "# The data are in a tab-separated list (even though the file ends in 'xls'. not cool, IMF)\n",
    "# The encoding parameter tells pandas how to read special characters\n",
    "# The thousands parameter tells pandas to remove the comma when reading in numbers\n",
    "weo = pd.read_csv('WEOOct2016all.xls', sep='\\t', na_values=['n/a', '--'], thousands =',', encoding='windows-1252')\n",
    "weo.head()"
   ]
  },
  {
   "cell_type": "code",
   "execution_count": null,
   "metadata": {},
   "outputs": [],
   "source": [
    "weo.tail()"
   ]
  },
  {
   "cell_type": "markdown",
   "metadata": {},
   "source": [
    "The data file has a footer (go back and look in the file) and we read it in as a line of data. We could go back and specify the `skipfooter` parameter to `read_csv()`, but we can also just drop it."
   ]
  },
  {
   "cell_type": "code",
   "execution_count": null,
   "metadata": {},
   "outputs": [],
   "source": [
    "weo.drop(8404, inplace=True)   # Using the row number is not very robust. What if the IMF add more countries to the workbook?\n",
    "weo.tail()"
   ]
  },
  {
   "cell_type": "markdown",
   "metadata": {},
   "source": [
    "### Drop unneeded variables\n",
    "Use `drop()` to get rid of columns that we are not going to use."
   ]
  },
  {
   "cell_type": "code",
   "execution_count": null,
   "metadata": {},
   "outputs": [],
   "source": [
    "weo.drop(['WEO Country Code', 'Subject Notes', 'Country/Series-specific Notes', 'Scale', 'Estimates Start After'],axis=1, inplace=True)\n",
    "weo.head()"
   ]
  },
  {
   "cell_type": "markdown",
   "metadata": {},
   "source": [
    "### Keep the countries and variables we want\n",
    "Let's look at Argentina, Germany, and Greece and the variables debt-gdp ratio and deficit-gdp ratio. "
   ]
  },
  {
   "cell_type": "code",
   "execution_count": null,
   "metadata": {},
   "outputs": [],
   "source": [
    "variables = ['GGXWDG_NGDP', 'GGXCNL_NGDP']\n",
    "countries = ['ARG', 'DEU', 'GRC']\n",
    "\n",
    "weo = weo[ weo['WEO Subject Code'].isin(variables) & weo['ISO'].isin(countries) ]\n",
    "weo.head()"
   ]
  },
  {
   "cell_type": "markdown",
   "metadata": {},
   "source": [
    "### The isin() method\n",
    "Check out the way that I selected the rows of the DataFrame I wanted. I used the `isin()` method ([docs](https://pandas.pydata.org/pandas-docs/stable/generated/pandas.DataFrame.isin.html)). You pass it a list of values and it returns a DataFrame of bools which you use to subset the data. This is a lot cleaner than using a bunch of conditional statements.  \n",
    "\n",
    "I'm using it twice: once to specify the variables I want and once to specify the countries I want. I join the two together with an & operator.  "
   ]
  },
  {
   "cell_type": "markdown",
   "metadata": {},
   "source": [
    "### Your turn\n",
    "The data are in pretty decent shape. Take a few minutes and try the following. Feel free to chat with those around if you get stuck. The TA and I are here, too.\n",
    "\n",
    "1. Rename the 'WEO Subject Code' to 'Variable' and 'Subject Descriptor' to 'Description'."
   ]
  },
  {
   "cell_type": "code",
   "execution_count": null,
   "metadata": {},
   "outputs": [],
   "source": []
  },
  {
   "cell_type": "markdown",
   "metadata": {},
   "source": [
    "2. Replace 'GGXCNL_NGDP' with 'Surplus\n",
    "3. Replace 'GGXWDG_NGDP' with 'Debt'"
   ]
  },
  {
   "cell_type": "code",
   "execution_count": null,
   "metadata": {},
   "outputs": [],
   "source": []
  },
  {
   "cell_type": "markdown",
   "metadata": {},
   "source": [
    "4. Set the (row) multiIndex to be 'ISO', 'Variable', 'Country', 'Description', and 'Units', in that order. "
   ]
  },
  {
   "cell_type": "code",
   "execution_count": null,
   "metadata": {},
   "outputs": [],
   "source": []
  },
  {
   "cell_type": "markdown",
   "metadata": {},
   "source": [
    "5. We want the row to be time and everything else to be columns. Swap the columns for rows.\n",
    "6. Sort the row and column indexes."
   ]
  },
  {
   "cell_type": "code",
   "execution_count": null,
   "metadata": {},
   "outputs": [],
   "source": []
  },
  {
   "cell_type": "markdown",
   "metadata": {},
   "source": [
    "7. Plot debt levels for Argentina, Germany and Greece for all the years in the data. Add a legend. Make the figure look nice. Hint: The x-axis is time..."
   ]
  },
  {
   "cell_type": "code",
   "execution_count": null,
   "metadata": {},
   "outputs": [],
   "source": []
  },
  {
   "cell_type": "markdown",
   "metadata": {},
   "source": [
    "Wow, Greece has had an interesting run. Let's look at Greece more closely. \n",
    "8. Create a (2,1) grid of subplots. Plot Greece's surplus in the top axes and debt in the bottom axis. Make it look nice."
   ]
  },
  {
   "cell_type": "code",
   "execution_count": null,
   "metadata": {},
   "outputs": [],
   "source": []
  }
 ],
 "metadata": {
  "celltoolbar": "Attachments",
  "kernelspec": {
   "display_name": "Python 3",
   "language": "python",
   "name": "python3"
  },
  "language_info": {
   "codemirror_mode": {
    "name": "ipython",
    "version": 3
   },
   "file_extension": ".py",
   "mimetype": "text/x-python",
   "name": "python",
   "nbconvert_exporter": "python",
   "pygments_lexer": "ipython3",
   "version": "3.6.5"
  }
 },
 "nbformat": 4,
 "nbformat_minor": 2
}
