{
 "cells": [
  {
   "cell_type": "markdown",
   "metadata": {},
   "source": [
    "# Coding practice \\#3: Due end of class, October 29\n",
    "\n",
    "Files needed = (CPS_March_2016.csv, state_gdp.csv, state_unemp.xlsx)\n",
    "\n",
    "Answer the questions below in a jupyter notebook. You can simply add cells to this notebook and enter your answers. When you are finished, print the notebook and hand it in during class. \\[To print: From the file menu, choose 'print preview' which will open a new tab with the notebook ready to print. Please print on both sides of paper if possible.\\]\n",
    "\n",
    "A reminder: Ruhl's office hours are T/R 2:30PM-3:30PM in Soc Sci 7444 and McWeeny's office hours are Monday 9:30AM-11:30AM in Soc Sci 6470. **CP \\#3 special note: Ruhl will be out of the office Thursday and Friday. Get in touch by email if you have questions.** \n",
    "\n",
    "*You should feel free to discuss the coding practice with your classmates, but the work you turn in should be your own.*\n"
   ]
  },
  {
   "cell_type": "markdown",
   "metadata": {},
   "source": [
    "# Exercise 0: Your name\n",
    "Replace 'Your name' above with your actual name. Enter it as last name, first name. Do not forget the coma!"
   ]
  },
  {
   "cell_type": "markdown",
   "metadata": {},
   "source": [
    "# Exercise 1: Subsets\n",
    "Let's practice pulling subsets out of a data frame. We subset a lot. Our goal is to build some muscle memory, so that every time we need to subset the data, we do not need to go look up how to do it. \n",
    "\n",
    "To this end, first try the exercises below without consulting your notes or the internet. Sort out where you need to improve and keep practicing! \n",
    "\n",
    "1. Create a DataFrame from the following dict. "
   ]
  },
  {
   "cell_type": "code",
   "execution_count": null,
   "metadata": {},
   "outputs": [],
   "source": [
    "data_dict = {'soda':['coke', 'diet coke', 'sprite', 'pepsi', 'mug', 'mt. dew'],\n",
    "            'cals':[140, 1, 90, 150, 130, 170],\n",
    "            'sodium':[45, 40, 65, 30, 65, 60],\n",
    "            'corp': ['coca cola', 'coca cola', 'coca cola', 'pepsico', 'pepsico', 'pepsico']}"
   ]
  },
  {
   "cell_type": "markdown",
   "metadata": {},
   "source": [
    "2. Print a DataFrame containing only sodas with more than 10 calories."
   ]
  },
  {
   "cell_type": "code",
   "execution_count": null,
   "metadata": {},
   "outputs": [],
   "source": []
  },
  {
   "cell_type": "markdown",
   "metadata": {},
   "source": [
    "3. Print a DataFrame containing only sodas with more than 10 calories and less than 100 calories."
   ]
  },
  {
   "cell_type": "code",
   "execution_count": null,
   "metadata": {},
   "outputs": [],
   "source": []
  },
  {
   "cell_type": "markdown",
   "metadata": {},
   "source": [
    "4. Print a DataFrame containing only data for coke, pepsi, and mug. Use the `isin()` method."
   ]
  },
  {
   "cell_type": "code",
   "execution_count": null,
   "metadata": {},
   "outputs": [],
   "source": []
  },
  {
   "cell_type": "markdown",
   "metadata": {},
   "source": [
    "5. Set the index of the DataFrame to 'soda'."
   ]
  },
  {
   "cell_type": "code",
   "execution_count": null,
   "metadata": {},
   "outputs": [],
   "source": []
  },
  {
   "cell_type": "markdown",
   "metadata": {},
   "source": [
    "6. Use `.loc[]` to print a DataFrame containing only coke, pepsi, and mug."
   ]
  },
  {
   "cell_type": "code",
   "execution_count": null,
   "metadata": {},
   "outputs": [],
   "source": []
  },
  {
   "cell_type": "markdown",
   "metadata": {},
   "source": [
    "7. Print out the average sodium for pepsico products that have more than 135 calories. "
   ]
  },
  {
   "cell_type": "code",
   "execution_count": null,
   "metadata": {},
   "outputs": [],
   "source": []
  },
  {
   "cell_type": "markdown",
   "metadata": {},
   "source": [
    "8. Print out the number of pepsico products with sodium above 60 mg."
   ]
  },
  {
   "cell_type": "code",
   "execution_count": null,
   "metadata": {},
   "outputs": [],
   "source": []
  },
  {
   "cell_type": "markdown",
   "metadata": {},
   "source": [
    "9. Print out the calories in a coke. "
   ]
  },
  {
   "cell_type": "code",
   "execution_count": null,
   "metadata": {},
   "outputs": [],
   "source": []
  },
  {
   "cell_type": "markdown",
   "metadata": {},
   "source": [
    "10. Reset the index on your DataFrame and create a MultiIndex of corp and soda. Sort your index!"
   ]
  },
  {
   "cell_type": "code",
   "execution_count": null,
   "metadata": {},
   "outputs": [],
   "source": []
  },
  {
   "cell_type": "markdown",
   "metadata": {},
   "source": [
    "11. Print the mean calories and sodium level for coca cola products."
   ]
  },
  {
   "cell_type": "code",
   "execution_count": null,
   "metadata": {},
   "outputs": [],
   "source": []
  },
  {
   "cell_type": "markdown",
   "metadata": {},
   "source": [
    "# Exercise 2: Wages, Education, and Gender\n",
    "\n",
    "## (Continued from Exam 1, Exercise 3)\n",
    "\n",
    "The goal of this exercise is to make a bar chart of hourly wages by gender and level of education. Some useful example code for a similar chart can be found at https://matplotlib.org/gallery/statistics/barchart_demo.html.\n",
    "\n",
    "To create the bar chart, follow the instructions below:\n",
    "\n",
    "1. As on the exam, import the file \"CPS_March_2016.csv\" into a Pandas dataframe. Be careful with missing values. Drop workers who didn't work full time last year or whose hourly wage was less than \\$5 or more than \\$200."
   ]
  },
  {
   "cell_type": "code",
   "execution_count": null,
   "metadata": {},
   "outputs": [],
   "source": []
  },
  {
   "cell_type": "markdown",
   "metadata": {},
   "source": [
    "2. Obtain the average wage by level of education for females and males using the `.groupby()` and `.mean()` methods. You should obtain two Pandas series: one containing the average wage by education level for females, and the other for males. Call these `wages_females` and `wages_males`."
   ]
  },
  {
   "cell_type": "code",
   "execution_count": null,
   "metadata": {},
   "outputs": [],
   "source": []
  },
  {
   "cell_type": "markdown",
   "metadata": {},
   "source": [
    "3. Print out `wages_females` and `wages_males`. Note that the `.groupby()` method has set the level of education as the index of each series and that the series is sorted alphabetically. Reorder each series so that the data is sorted by level of attainment: 'Less than HS' first, 'HS diploma/GED' second, and so on."
   ]
  },
  {
   "cell_type": "code",
   "execution_count": null,
   "metadata": {},
   "outputs": [],
   "source": []
  },
  {
   "cell_type": "markdown",
   "metadata": {},
   "source": [
    "4. Now we have everything we need to make the bar chart. Format the plot as follows:\n",
    "    1. Set the figure size to (11,8.5).\n",
    "    2. Color the female bars magenta and the male bars blue. Set the alpha composite to 0.75. Create a legend describing the color of each bar. Make sure the spacing between bars is appropriate, with some whitespace between each level of education.\n",
    "    3. Label the horizontal axis tick marks with the appropriate level of education.\n",
    "    4. Label the vertical axis \"Dollars per hour\", and title the figure \"Average hourly wage by gender and level of education\".\n",
    "    5. Remove the borders on the top and right sides of the figure.\n",
    "    6. In some whitespace on the figure, insert text containing the overall average wage in dollars and cents for males and females (this should be the overall average by gender, not conditional on education).\n",
    "4. **Not required, but fun and challenging:** Print the appropriate wage level in dollars and cents on the top of each bar."
   ]
  },
  {
   "cell_type": "code",
   "execution_count": null,
   "metadata": {},
   "outputs": [],
   "source": []
  },
  {
   "cell_type": "markdown",
   "metadata": {},
   "source": [
    "# Exercise 3: Cleaning and merging panel data from multiple sources \n",
    "\n",
    "Economists nearly always use data from multiple sources to conduct their analysis. It is almost never the case that all the data required for a project is available from one source. This is often an artifact of how economic data are collected in the United States. For example, the Bureau of Labor Statistics (BLS) is responsible for measuring the unemployment rate, while the Bureau of Economic Analysis (BEA) is responsible for measuring gross domestic product. (These bureaus are themselves parts of different departments of the executive branch -- the Department of Labor in the case of the BLS and the Department of Commerce in the case of the BEA). As a result, data are often published in different formats that require some extra work to merge.\n",
    "\n",
    "In this exercise, your task is to merge state-level unemployment rate data from the BLS with state-level GDP data from the BEA.  You will then make a scatterplot showing Okun's Law for Wisconsin and Michigan.\n",
    "\n",
    "**Note:** An easier way to do this is to use the FRED API to retreive each series directly. However, the purpose of this exercise is to practice cleaning and merging data, so follow the instructions below.\n",
    "\n",
    "### Part (a): Importing and cleaning the GDP data\n",
    "1. Read in the file \"state_gdp.csv\" as a Pandas data frame called `gdp`. This file (downloaded from https://apps.bea.gov/regional/Downloadzip.cfm) contains annualized real GDP (in millions of chained 2009 dollars) for each quarter from 2005Q1 to 2018Q1 for each state and industry. Note that the data is in \"wide\" format.\n",
    "2. Note that the data contains a breakdown of each industry's contribution to GDP in each state. For this exercise, we are only interested in *total* real GDP for each state. Thus, drop all rows for which the column \"Description\" is not equal to \"All industry total\"\n"
   ]
  },
  {
   "cell_type": "code",
   "execution_count": null,
   "metadata": {},
   "outputs": [],
   "source": []
  },
  {
   "cell_type": "markdown",
   "metadata": {},
   "source": [
    "3. Note that the data also contains real GDP for the United States as a whole as well as for several subregions. Since we are only interested in states, these need to be dropped as well. To do this, drop any row for which the column 'GeoName' contains \"United States\", \"New England\", \"Mideast\", \"Great Lakes\", \"Plains\", \"Southeast\", \"Southwest\", \"Rocky Mountain\", or \"Far West\".\n"
   ]
  },
  {
   "cell_type": "code",
   "execution_count": null,
   "metadata": {},
   "outputs": [],
   "source": []
  },
  {
   "cell_type": "markdown",
   "metadata": {},
   "source": [
    "4. Drop the columns 'GeoFIPS', 'Region', 'ComponentId', 'ComponentName', 'IndustryId', 'IndustryClassification', and 'Description'. Then rename the column 'GeoFIPS' to 'state'.\n"
   ]
  },
  {
   "cell_type": "code",
   "execution_count": null,
   "metadata": {},
   "outputs": [],
   "source": []
  },
  {
   "cell_type": "markdown",
   "metadata": {},
   "source": [
    "5. Use the `.melt()` method to convert the data from wide to long format. Then rename the columns 'variable' to 'date' and 'value' to 'real_gdp'. Also, convert 'real_gdp' to a floating point number (the columns containing the GDP data were originally imported as strings since some values of GDP for some industries/states are censored or missing)."
   ]
  },
  {
   "cell_type": "code",
   "execution_count": null,
   "metadata": {},
   "outputs": [],
   "source": []
  },
  {
   "cell_type": "markdown",
   "metadata": {},
   "source": [
    "6. Finally, we should convert the date to a datetime object. This will require a few steps:\n",
    "    1. Unfortunately, the `datetime` package doesn't like the format of our dates: \"2005:Q1\" etc. Use the `.str.replace()` method to replace the colon \":\" with an empty string \"\".\n",
    "    2. Now convert 'date' to a datetime object. Then use `dt.to_period(\"Q\")` to change the formating from year-month-day to year-quarter."
   ]
  },
  {
   "cell_type": "code",
   "execution_count": null,
   "metadata": {},
   "outputs": [],
   "source": []
  },
  {
   "cell_type": "markdown",
   "metadata": {},
   "source": [
    "### Part (b): Importing and cleaning the unemployment rate data\n",
    "\n",
    "1. Import the file \"state_unemp.xlsx\" as a Pandas data frame called `unemp`.  This file (downloaded from https://www.bls.gov/lau/rdscnp16.htm) contains measures of the population, labor force, employment, unemployment, and unemployment rate by state (plus New York City and Los Angeles County) in each month from January 1976 to September 2018. Notice how different the formmating is compared to the GDP data! When importing, do the following:\n",
    "    1. The column names are not friendly for importing, so keep only columns 1, 2, 3, and 10. \n",
    "    2. Set the remaining column names to 'state', 'year', 'month', and 'unemp_rate'. \n",
    "    3. Use `skiprows=8` to avoid importing the messy headers.\n"
   ]
  },
  {
   "cell_type": "code",
   "execution_count": null,
   "metadata": {},
   "outputs": [],
   "source": []
  },
  {
   "cell_type": "markdown",
   "metadata": {},
   "source": [
    "2. Drop the observations for \"Los Angeles County\" and \"New York City\"."
   ]
  },
  {
   "cell_type": "code",
   "execution_count": null,
   "metadata": {},
   "outputs": [],
   "source": []
  },
  {
   "cell_type": "markdown",
   "metadata": {},
   "source": [
    "3. Create a new column called 'day' that is equal to 1. Then create a datetime object 'date' from the columns year, month, and day. Then drop the year, month, and day columns and set 'date' as the index."
   ]
  },
  {
   "cell_type": "code",
   "execution_count": null,
   "metadata": {},
   "outputs": [],
   "source": []
  },
  {
   "cell_type": "markdown",
   "metadata": {},
   "source": [
    "4. Use the `.groupby()`, `.resample()`, and `.mean()` methods to convert the data to quarterly frequency in each state.\n"
   ]
  },
  {
   "cell_type": "code",
   "execution_count": null,
   "metadata": {},
   "outputs": [],
   "source": []
  },
  {
   "cell_type": "markdown",
   "metadata": {},
   "source": [
    "5. Reset the index and then use `dt.to_period(\"Q\")` to change the formating from year-month-day to year-quarter."
   ]
  },
  {
   "cell_type": "code",
   "execution_count": null,
   "metadata": {},
   "outputs": [],
   "source": []
  },
  {
   "cell_type": "markdown",
   "metadata": {},
   "source": [
    "### Part (c): Merging and plotting the data\n",
    "\n",
    "1. Create a new data frame by merging the gdp and unemployment rate data on 'state' and 'date'. Set 'state' and 'date' as the index on the new data frame and sort the index."
   ]
  },
  {
   "cell_type": "code",
   "execution_count": null,
   "metadata": {},
   "outputs": [],
   "source": []
  },
  {
   "cell_type": "markdown",
   "metadata": {},
   "source": [
    "2. Calculate the growth rate of real GDP and the change in the unemployment rate for each state and quarter; create new columns for each."
   ]
  },
  {
   "cell_type": "code",
   "execution_count": null,
   "metadata": {},
   "outputs": [],
   "source": []
  },
  {
   "cell_type": "markdown",
   "metadata": {},
   "source": [
    "3. Change the index to 'state'."
   ]
  },
  {
   "cell_type": "code",
   "execution_count": null,
   "metadata": {},
   "outputs": [],
   "source": []
  },
  {
   "cell_type": "markdown",
   "metadata": {},
   "source": [
    "4. Now we can make the desired scatterplot. Plot the GDP growth rate against the change in the unemplyoment rate for Wisconsin and Michigan on the same figure, with GDP growth on the horizontal axis and the change in the unemployment rate on the vertical axis. Make the markers for Wisconsin red x's and the markers for Michigan blue squares that aren't filled in (i.e., only the outline should be shown in blue -- the interior should be blank). Make other aspects of the plot look nice, including nice labels and a legend."
   ]
  },
  {
   "cell_type": "code",
   "execution_count": null,
   "metadata": {},
   "outputs": [],
   "source": []
  }
 ],
 "metadata": {
  "celltoolbar": "Attachments",
  "kernelspec": {
   "display_name": "Python 3",
   "language": "python",
   "name": "python3"
  },
  "language_info": {
   "codemirror_mode": {
    "name": "ipython",
    "version": 3
   },
   "file_extension": ".py",
   "mimetype": "text/x-python",
   "name": "python",
   "nbconvert_exporter": "python",
   "pygments_lexer": "ipython3",
   "version": "3.6.5"
  }
 },
 "nbformat": 4,
 "nbformat_minor": 2
}
