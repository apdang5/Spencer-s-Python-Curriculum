{
 "cells": [
  {
   "cell_type": "markdown",
   "metadata": {},
   "source": [
    "# Coding practice \\#4: Due end of class, November 12\n",
    "\n",
    "Files needed = (airline_products_2017.csv)\n",
    "\n",
    "Answer the questions below in a jupyter notebook. You can simply add cells to this notebook and enter your answers. When you are finished, print the notebook and hand it in during class. \\[To print: From the file menu, choose 'print preview' which will open a new tab with the notebook ready to print. Please print on both sides of paper if possible.\\]\n",
    "\n",
    "A reminder: Ruhl's office hours are T/R 2:30PM-3:30PM in Soc Sci 7444 and McWeeny's office hours are Monday 9:30AM-11:30AM in Soc Sci 6470. \n",
    "\n",
    "*You should feel free to discuss the coding practice with your classmates, but the work you turn in should be your own.*\n"
   ]
  },
  {
   "cell_type": "markdown",
   "metadata": {},
   "source": [
    "# Exercise 0: Your name\n",
    "Replace 'Your name' above with your actual name. Enter it as last name, first name. Do not forget the comma!"
   ]
  },
  {
   "cell_type": "markdown",
   "metadata": {},
   "source": [
    "# Exercise 1: groupby and more bar charts\n",
    "\n",
    "The file 'airline_products_2017.csv' contains some data used in the first chapter of Dennis's dissertation. The data are taken from the Airline Origin & Destination Survey (DB1B) but has been substantially cleaned (Thanks Dennis!).\n",
    "\n",
    "In particular, the data contain information on a sample of airline itineraries for flights departing from one of seven airports in the San Francisco Bay region and arriving at one of the other large cities in the United States in the second quarter of 2017. Each observation contains information on the origin airport, destination airport, airline,  nonstop or connecting itinerary type, average one-way fare in dollars, and distance between the origin and destination (in miles).\n",
    "\n",
    "In this exercise, we will make a simple scatterplot and then repeatedly use the `.groupby()` method to create several bar charts. Follow the instructions below."
   ]
  },
  {
   "cell_type": "markdown",
   "metadata": {},
   "source": [
    "### Part (a):\n",
    "\n",
    "Load the data as a Pandas data frame and keep only the nonstop flights. Then use Seaborn's `regplot()` function to make a scatterplot of distance against prices **for nonstop flights**. Turn off the confindence interval, make the regression line black, and make the scatterpoints blue circles that are not filled in. For this you'll need to use the optional arguments `scatter_kws` and `line_kws` --- the idea is to pass dicitionaries of the desired options to each of these arguments (see the documentation for details: https://seaborn.pydata.org/generated/seaborn.regplot.html).\n",
    "\n",
    "You'll notice a strange gap in the distance data between 1,000 and 1,500 miles --- it's called \"flyover country\" for a reason!"
   ]
  },
  {
   "cell_type": "code",
   "execution_count": null,
   "metadata": {},
   "outputs": [],
   "source": []
  },
  {
   "cell_type": "markdown",
   "metadata": {},
   "source": [
    "### Part (b):\n",
    "\n",
    "1. Use the `.groupby()` method to obtain the **median** fare for nonstop flights for each airline. "
   ]
  },
  {
   "cell_type": "code",
   "execution_count": null,
   "metadata": {},
   "outputs": [],
   "source": []
  },
  {
   "cell_type": "markdown",
   "metadata": {},
   "source": [
    "2. Make a bar chart displaying the median fare for American Airlines, Delta Air Lines, Southwest Airlines, and United Airlines. Give the chart appropriate labels etc. and make it look nice.\n",
    "\n",
    "Contrary to intuition, Delta appears to have much lower fares than Southwest!"
   ]
  },
  {
   "cell_type": "code",
   "execution_count": null,
   "metadata": {},
   "outputs": [],
   "source": [
    "\n"
   ]
  },
  {
   "cell_type": "markdown",
   "metadata": {},
   "source": [
    "### Part (c):\n",
    "\n",
    "The bar chart above might be misleading, because different airlines may fly to different cities that are different distances from San Francisco, so we might be confusing variation in fares across airlines with variation in fares for flights of different distances. Let's try to fix this:\n",
    "   1. On the original data frame, use the `.cut()` method to create distance bins 500 miles in width (starting at 0 and ending at 3000). \n",
    "   \n",
    "   2A. Use the `.groupby()` method to obtain the median airfare by distance bin by airline. "
   ]
  },
  {
   "cell_type": "code",
   "execution_count": null,
   "metadata": {},
   "outputs": [],
   "source": []
  },
  {
   "cell_type": "markdown",
   "metadata": {},
   "source": [
    "2B. Then reset the index on the resulting series. Your data should be *long* at this point.\n",
    "\n",
    "\\[Note: This is a series object (not a DataFrame) so you won't be able to use the `inplace=True` argument.\\] "
   ]
  },
  {
   "cell_type": "code",
   "execution_count": null,
   "metadata": {},
   "outputs": [],
   "source": []
  },
  {
   "cell_type": "markdown",
   "metadata": {},
   "source": [
    "   3. Keep the observations for the 4 airlines discussed above: American Airlines, Delta Air Lines, Southwest Airlines, and United Airlines.\n",
    "   4. Covert the distance bin column to a string instead of an Interval object type. \\[try `astype( )`\\]\n",
    "  "
   ]
  },
  {
   "cell_type": "code",
   "execution_count": null,
   "metadata": {},
   "outputs": [],
   "source": []
  },
  {
   "cell_type": "markdown",
   "metadata": {},
   "source": [
    " 5. Now let's create a **horizontal** bar chart showing the median fare by airline for two different lengths of flights: those between 0 and 500 miles  and those between 2,000 and 2,500 miles. \n",
    " \n",
    "This can be done by passing the appropriate arguments to Seaborn's `.barplot()` function. The horizontal axis should show the median fare, the vertical axis should show the two distances intervals, and each bar color should represent a different airline. Make the other aspects of the figure look nice.\n",
    "\n",
    "The resulting chart should show that Delta has the lowest fares for the flights between 0 and 500 miles but the highest fares for flights between 2,000 and 2,500 miles."
   ]
  },
  {
   "cell_type": "code",
   "execution_count": null,
   "metadata": {},
   "outputs": [],
   "source": []
  }
 ],
 "metadata": {
  "celltoolbar": "Attachments",
  "kernelspec": {
   "display_name": "Python 3",
   "language": "python",
   "name": "python3"
  },
  "language_info": {
   "codemirror_mode": {
    "name": "ipython",
    "version": 3
   },
   "file_extension": ".py",
   "mimetype": "text/x-python",
   "name": "python",
   "nbconvert_exporter": "python",
   "pygments_lexer": "ipython3",
   "version": "3.6.5"
  }
 },
 "nbformat": 4,
 "nbformat_minor": 2
}
