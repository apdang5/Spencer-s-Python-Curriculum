{
 "cells": [
  {
   "cell_type": "markdown",
   "metadata": {},
   "source": [
    "# Coding practice \\#4: Due end of class, November 12\n",
    "\n",
    "Files needed = (airline_products_2017.csv)\n",
    "\n",
    "Answer the questions below in a jupyter notebook. You can simply add cells to this notebook and enter your answers. When you are finished, print the notebook and hand it in during class. \\[To print: From the file menu, choose 'print preview' which will open a new tab with the notebook ready to print. Please print on both sides of paper if possible.\\]\n",
    "\n",
    "A reminder: Ruhl's office hours are T/R 2:30PM-3:30PM in Soc Sci 7444 and McWeeny's office hours are Monday 9:30AM-11:30AM in Soc Sci 6470. \n",
    "\n",
    "*You should feel free to discuss the coding practice with your classmates, but the work you turn in should be your own.*\n"
   ]
  },
  {
   "cell_type": "markdown",
   "metadata": {},
   "source": [
    "# Exercise 0: Your name\n",
    "Replace 'Your name' above with your actual name. Enter it as last name, first name. Do not forget the comma!"
   ]
  },
  {
   "cell_type": "markdown",
   "metadata": {},
   "source": [
    "# Exercise 1: groupby and more bar charts\n",
    "\n",
    "The file 'airline_products_2017.csv' contains some data used in the first chapter of Dennis's dissertation. The data are taken from the Airline Origin & Destination Survey (DB1B) but has been substantially cleaned (Thanks Dennis!).\n",
    "\n",
    "In particular, the data contain information on a sample of airline itineraries for flights departing from one of seven airports in the San Francisco Bay region and arriving at one of the other large cities in the United States in the second quarter of 2017. Each observation contains information on the origin airport, destination airport, airline,  nonstop or connecting itinerary type, average one-way fare in dollars, and distance between the origin and destination (in miles).\n",
    "\n",
    "In this exercise, we will make a simple scatterplot and then repeatedly use the `.groupby()` method to create several bar charts. Follow the instructions below."
   ]
  },
  {
   "cell_type": "markdown",
   "metadata": {},
   "source": [
    "### Part (a):\n",
    "\n",
    "Load the data as a Pandas data frame and keep only the nonstop flights. Then use Seaborn's `regplot()` function to make a scatterplot of distance against prices **for nonstop flights**. Turn off the confindence interval, make the regression line black, and make the scatterpoints blue circles that are not filled in. For this you'll need to use the optional arguments `scatter_kws` and `line_kws` -- the idea is to pass dicitionaries of the desired options to each of these arguments (see the documentation for details: https://seaborn.pydata.org/generated/seaborn.regplot.html).\n",
    "\n",
    "You'll notice a strange gap in the distance data between 1,000 and 1,500 miles --- it's called \"flyover country\" for a reason!"
   ]
  },
  {
   "cell_type": "code",
   "execution_count": 1,
   "metadata": {},
   "outputs": [
    {
     "data": {
      "text/plain": [
       "<Figure size 1000x500 with 1 Axes>"
      ]
     },
     "metadata": {},
     "output_type": "display_data"
    }
   ],
   "source": [
    "import pandas as pd\n",
    "import matplotlib.pyplot as plt\n",
    "import seaborn as sns   \n",
    "\n",
    "# Load data\n",
    "flights = pd.read_csv(\"airline_products_2017.csv\")\n",
    "\n",
    "# Keep only nonstop flights:\n",
    "flights = flights[flights['nonstop'] == 1]\n",
    "\n",
    "\n",
    "# Scatterplot with regression line. Notice the syntax for the extra options in .regplot().\n",
    "fig0, ax0 = plt.subplots(figsize=(10,5)) \n",
    "sns.regplot(x='distance',y='fare', data=flights, \n",
    "            ci = 0,\n",
    "            ax = ax0,\n",
    "            scatter_kws={'color': 'blue', 'facecolors':'none'},   # blue scatter plot, unfilled marker 'faces'\n",
    "            line_kws={'color': 'black'})                          # make the regression line black \n",
    "\n",
    "sns.despine(ax=ax0)  # despine the seaborn way\n",
    "\n",
    "ax0.set_title(\"Airfare and flight distance for nonstop flights in 2017Q2\")\n",
    "ax0.set_xlabel(\"Flight distance (miles)\")\n",
    "ax0.set_ylabel(\"One-way fare (dollars)\")\n",
    "\n",
    "plt.show()"
   ]
  },
  {
   "cell_type": "markdown",
   "metadata": {},
   "source": [
    "### Part (b):\n",
    "\n",
    "1. Use the `.groupby()` method to obtain the **median** fare for nonstop flights for each airline. "
   ]
  },
  {
   "cell_type": "code",
   "execution_count": 8,
   "metadata": {},
   "outputs": [
    {
     "data": {
      "text/plain": [
       "airline\n",
       "Alaska Airlines         140.300230\n",
       "Allegiant Air            63.637638\n",
       "American Airlines       221.730330\n",
       "Delta Air Lines         167.254630\n",
       "Frontier Airlines       109.993130\n",
       "JetBlue Airways         240.673565\n",
       "Skywest Airlines        101.370130\n",
       "Southwest Airlines      222.615730\n",
       "Spirit Air Lines         92.401984\n",
       "Sun Country Airlines    189.357150\n",
       "United Airlines         287.500950\n",
       "Virgin America          240.048885\n",
       "Name: fare, dtype: float64"
      ]
     },
     "execution_count": 8,
     "metadata": {},
     "output_type": "execute_result"
    }
   ],
   "source": [
    "# Compute median fares by airline:\n",
    "by_airline = flights.groupby('airline')['fare'].median()\n",
    "by_airline"
   ]
  },
  {
   "cell_type": "markdown",
   "metadata": {},
   "source": [
    "2. Make a bar chart displaying the median fare for American Airlines, Delta Air Lines, Southwest Airlines, and United Airlines. Give the chart appropriate labels etc. and make it look nice.\n",
    "\n",
    "Contrary to intuition, Delta appears to have much lower fares than Southwest!"
   ]
  },
  {
   "cell_type": "code",
   "execution_count": 9,
   "metadata": {},
   "outputs": [
    {
     "data": {
      "image/png": "[encoded data removed]",
      "text/plain": [
       "<Figure size 720x360 with 1 Axes>"
      ]
     },
     "metadata": {},
     "output_type": "display_data"
    }
   ],
   "source": [
    "# List of big 4 airlines of interest\n",
    "airline_list = ['American Airlines', 'Delta Air Lines', 'Southwest Airlines', 'United Airlines']\n",
    "\n",
    "# Bar chart of median fares by airline\n",
    "fig1, ax1 = plt.subplots(figsize=(10,5)) \n",
    "\n",
    "# only plot the rows in 'airline_list'\n",
    "ax1.bar(by_airline.loc[airline_list].index, by_airline.loc[airline_list], alpha=0.5)\n",
    "\n",
    "ax1.set_title('Median airfare by airline')\n",
    "ax1.set_ylabel('Median one-way fare (dollars)')\n",
    "\n",
    "ax1.spines['top'].set_visible(False)\n",
    "ax1.spines['right'].set_visible(False)\n",
    "plt.tick_params(bottom=False)            # Kill the ticks on the categorical axis\n",
    "\n",
    "plt.show()\n"
   ]
  },
  {
   "cell_type": "markdown",
   "metadata": {},
   "source": [
    "### Part (c):\n",
    "\n",
    "The bar chart above might be misleading, because different airlines may fly to different cities that are different distances from San Francisco, so we might be confusing variation in fares across airlines with variation in fares for flights of different distances. Let's try to fix this:\n",
    "   1. On the original data frame, use the `.cut()` method to create distance bins 500 miles in width (starting at 0 and ending at 3000). \n",
    "   \n",
    "   2A. Use the `.groupby()` method to obtain the median airfare by distance bin by airline. "
   ]
  },
  {
   "cell_type": "code",
   "execution_count": 4,
   "metadata": {},
   "outputs": [
    {
     "data": {
      "text/plain": [
       "distance_bins  airline          \n",
       "(0, 500]       Alaska Airlines      117.844825\n",
       "               Allegiant Air         69.247496\n",
       "               American Airlines    133.903600\n",
       "               Delta Air Lines      125.328650\n",
       "               JetBlue Airways       90.325570\n",
       "Name: fare, dtype: float64"
      ]
     },
     "execution_count": 4,
     "metadata": {},
     "output_type": "execute_result"
    }
   ],
   "source": [
    "# Create distance bins:\n",
    "bins = [0,500,1000,1500,2000,2500,3000]\n",
    "\n",
    "# Use .cut() function to cut the flight distance data\n",
    "flights['distance_bins'] = pd.cut(flights['distance'],bins)\n",
    "\n",
    "# Calculate the median fare by airline and distance bin and reset the index\n",
    "by_airline_and_dist = flights.groupby(['distance_bins','airline'])['fare'].median()\n",
    "\n",
    "by_airline_and_dist.head()\n"
   ]
  },
  {
   "cell_type": "markdown",
   "metadata": {},
   "source": [
    "2B. Then reset the index on the resulting series. Your data should be *long* at this point.\n",
    "\n",
    "\\[Note: This is a series object (not a DataFrame) so you won't be able to use the `inplace=True` argument.\\] "
   ]
  },
  {
   "cell_type": "code",
   "execution_count": 5,
   "metadata": {},
   "outputs": [
    {
     "data": {
      "text/html": [
       "<div>\n",
       "<style scoped>\n",
       "    .dataframe tbody tr th:only-of-type {\n",
       "        vertical-align: middle;\n",
       "    }\n",
       "\n",
       "    .dataframe tbody tr th {\n",
       "        vertical-align: top;\n",
       "    }\n",
       "\n",
       "    .dataframe thead th {\n",
       "        text-align: right;\n",
       "    }\n",
       "</style>\n",
       "<table border=\"1\" class=\"dataframe\">\n",
       "  <thead>\n",
       "    <tr style=\"text-align: right;\">\n",
       "      <th></th>\n",
       "      <th>distance_bins</th>\n",
       "      <th>airline</th>\n",
       "      <th>fare</th>\n",
       "    </tr>\n",
       "  </thead>\n",
       "  <tbody>\n",
       "    <tr>\n",
       "      <th>0</th>\n",
       "      <td>(0, 500]</td>\n",
       "      <td>Alaska Airlines</td>\n",
       "      <td>117.844825</td>\n",
       "    </tr>\n",
       "    <tr>\n",
       "      <th>1</th>\n",
       "      <td>(0, 500]</td>\n",
       "      <td>Allegiant Air</td>\n",
       "      <td>69.247496</td>\n",
       "    </tr>\n",
       "    <tr>\n",
       "      <th>2</th>\n",
       "      <td>(0, 500]</td>\n",
       "      <td>American Airlines</td>\n",
       "      <td>133.903600</td>\n",
       "    </tr>\n",
       "    <tr>\n",
       "      <th>3</th>\n",
       "      <td>(0, 500]</td>\n",
       "      <td>Delta Air Lines</td>\n",
       "      <td>125.328650</td>\n",
       "    </tr>\n",
       "    <tr>\n",
       "      <th>4</th>\n",
       "      <td>(0, 500]</td>\n",
       "      <td>JetBlue Airways</td>\n",
       "      <td>90.325570</td>\n",
       "    </tr>\n",
       "  </tbody>\n",
       "</table>\n",
       "</div>"
      ],
      "text/plain": [
       "  distance_bins            airline        fare\n",
       "0      (0, 500]    Alaska Airlines  117.844825\n",
       "1      (0, 500]      Allegiant Air   69.247496\n",
       "2      (0, 500]  American Airlines  133.903600\n",
       "3      (0, 500]    Delta Air Lines  125.328650\n",
       "4      (0, 500]    JetBlue Airways   90.325570"
      ]
     },
     "execution_count": 5,
     "metadata": {},
     "output_type": "execute_result"
    }
   ],
   "source": [
    "by_airline_and_dist = by_airline_and_dist.reset_index()\n",
    "\n",
    "by_airline_and_dist.head()"
   ]
  },
  {
   "cell_type": "markdown",
   "metadata": {},
   "source": [
    "   3. Keep the observations for the 4 airlines discussed above: American Airlines, Delta Air Lines, Southwest Airlines, and United Airlines.\n",
    "   4. Covert the distance bin column to a string instead of an Interval object type. \\[try `astype( )`\\]\n",
    "  "
   ]
  },
  {
   "cell_type": "code",
   "execution_count": 6,
   "metadata": {},
   "outputs": [
    {
     "name": "stdout",
     "output_type": "stream",
     "text": [
      "The distance_bins type is <class 'pandas._libs.interval.Interval'>\n",
      "The distance_bins type is <class 'str'>\n"
     ]
    }
   ],
   "source": [
    "# Selected desired columns: just the 4 large airlines used above:\n",
    "by_airline_and_dist = by_airline_and_dist[by_airline_and_dist['airline'].isin(airline_list)]\n",
    "\n",
    "# What kind of object is a distance_bin?\n",
    "print('The distance_bins type is', type(by_airline_and_dist.loc[2,'distance_bins']) )\n",
    "\n",
    "# Convert the distnace_bins to strings rather than categoricals:\n",
    "by_airline_and_dist['distance_bins'] = by_airline_and_dist['distance_bins'].astype('str')\n",
    "\n",
    "# What kind of object is a distance_bin?\n",
    "print('The distance_bins type is', type(by_airline_and_dist.loc[2,'distance_bins']) )"
   ]
  },
  {
   "cell_type": "markdown",
   "metadata": {},
   "source": [
    " 5. Now let's create a **horizontal** bar chart showing the median fare by airline for two different lengths of flights: those between 0 and 500 miles  and those between 2,000 and 2,500 miles. \n",
    " \n",
    "This can be done by passing the appropriate arguments to Seaborn's `.barplot()` function. The horizontal axis should show the median fare, the vertical axis should show the two distances intervals, and each bar color should represent a different airline. Make the other aspects of the figure look nice.\n",
    "\n",
    "The resulting chart should show that Delta has the lowest fares for the flights between 0 and 500 miles but the highest fares for flights between 2,000 and 2,500 miles."
   ]
  },
  {
   "cell_type": "code",
   "execution_count": 7,
   "metadata": {},
   "outputs": [
    {
     "data": {
      "image/png": "[encoded data removed]",
      "text/plain": [
       "<Figure size 720x360 with 1 Axes>"
      ]
     },
     "metadata": {},
     "output_type": "display_data"
    }
   ],
   "source": [
    "fig2, ax2 = plt.subplots(figsize=(10,5)) \n",
    "\n",
    "# Select desired flight distances:\n",
    "d = by_airline_and_dist[by_airline_and_dist['distance_bins'].isin(['(0, 500]', '(2000, 2500]'])]\n",
    "\n",
    "# Create barplot:\n",
    "sns.barplot(x= 'fare', y = 'distance_bins', hue='airline', \n",
    "            data=d, ax = ax2)\n",
    "\n",
    "\n",
    "# Remove spines as well as ticks from vertical axis\n",
    "sns.despine()\n",
    "plt.tick_params(left=False)\n",
    "\n",
    "# No need for legend title\n",
    "ax2.legend().set_title('')\n",
    "\n",
    "# Set axis labels and title\n",
    "ax2.set_xlabel('Median one-way fare (dollars)')\n",
    "ax2.set_ylabel('Flight distance (miles)')\n",
    "plt.title('Median fare by airline and flight distance')\n",
    "\n",
    "plt.show()"
   ]
  },
  {
   "cell_type": "code",
   "execution_count": null,
   "metadata": {},
   "outputs": [],
   "source": []
  }
 ],
 "metadata": {
  "celltoolbar": "Attachments",
  "kernelspec": {
   "display_name": "Python 3",
   "language": "python",
   "name": "python3"
  },
  "language_info": {
   "codemirror_mode": {
    "name": "ipython",
    "version": 3
   },
   "file_extension": ".py",
   "mimetype": "text/x-python",
   "name": "python",
   "nbconvert_exporter": "python",
   "pygments_lexer": "ipython3",
   "version": "3.6.5"
  }
 },
 "nbformat": 4,
 "nbformat_minor": 2
}
