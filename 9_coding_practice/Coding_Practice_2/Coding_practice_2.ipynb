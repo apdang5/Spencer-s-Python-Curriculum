{
 "cells": [
  {
   "cell_type": "markdown",
   "metadata": {},
   "source": [
    "# Coding practice \\#2: Due end of class, October 8\n",
    "\n",
    "Answer the questions below in a jupyter notebook. You can simply add cells to this notebook and enter your answers. When you are finished, print the notebook and hand it in during class. \\[To print: From the file menu, choose 'print preview' which will open a new tab with the notebook ready to print. Please print on both sides of paper if possible.\\]\n",
    "\n",
    "A reminder: Ruhl's office hours are T/R 2:30PM-3:30PM in Soc Sci 7444 and McWeeny's office hours are Monday 9:30AM-11:30AM in Soc Sci 6470.  \n",
    "\n",
    "*You should feel free to discuss the coding practice with your classmates, but the work you turn in should be your own.*\n"
   ]
  },
  {
   "cell_type": "markdown",
   "metadata": {},
   "source": [
    "# Exercise 0: Your name\n",
    "Replace 'Your name' above with your actual name. Enter it as last name, first name."
   ]
  },
  {
   "cell_type": "markdown",
   "metadata": {},
   "source": [
    "# Exercise 1: Importing data\n",
    "\n",
    "The file \"banks_and_branches.csv\" contains data on the number of commercial banking institutions, branches, and offices in the United States at the end of each year between 1934 to 2017. (This data is maintained by the Federal Deposit Insurance Corporation (FDIC) and can be downloaded from https://www5.fdic.gov/hsob/SelectRpt.asp?EntryTyp=10&Header=1, series CB01. The FDIC has a lot of interesting banking data. You are encouraged to browse around their website to see what's there -- this might be a useful source for your final project.)\n",
    "\n",
    "Your task is to import this data into Python.\n",
    "\n",
    "### Part (a):\n",
    "In the code cell below, import the data from \"banks_and_branches.csv\" into a Pandas data frame called `banking_data`. If you open the .csv file in Excel or a similar program, you'll notice that there are notes in several of the cells at the begining of the file. Rather than delete these manually, you should use the `header` option in `pandas.read_csv` to use the correct row for the column names."
   ]
  },
  {
   "cell_type": "code",
   "execution_count": null,
   "metadata": {},
   "outputs": [],
   "source": []
  },
  {
   "cell_type": "markdown",
   "metadata": {},
   "source": [
    "### Part (b):\n",
    "1. Convert each of the column names to lower case using a list comprehension.\n",
    "2. We don't need the 'branches' column -- you might notice that the variable 'offices' is equal to 'institutions' plus 'branches'. Delete the 'branches' column.  \n",
    "3. Rename the 'institutions' column 'banks'.\n",
    "4. Then, print the data types of each column."
   ]
  },
  {
   "cell_type": "code",
   "execution_count": null,
   "metadata": {},
   "outputs": [],
   "source": []
  },
  {
   "cell_type": "markdown",
   "metadata": {},
   "source": [
    "### Part (c):\n",
    "\n",
    "You'll notice that some of the columns are listed as objects and not integers. Convert these columns to integers. Note that you'll need to remove the thousands separator (\",\") from each number first. Print the data types of each column to confirm that they are all integers.\n",
    "\n",
    "Later, we will need a variable containing the average number of offices per institution in each year. Add a new column called 'offices_per_bank' to `banking_data` with this information."
   ]
  },
  {
   "cell_type": "code",
   "execution_count": null,
   "metadata": {},
   "outputs": [],
   "source": []
  },
  {
   "cell_type": "markdown",
   "metadata": {},
   "source": [
    "# Exercise 2: Making subplots\n",
    "\n",
    "Note: This exercise uses the `banking_data` data frame created in Exercise 1.\n",
    "\n",
    "The U.S. banking industry has become increasingly concentrated over the years, expecially due to a wave of mergers and acquisitions that occurred in the 1990s and 2000s. Furthermore, many commercial banks have begun to close their physical branch locations in recent years due to the rise of online and mobile banking. (See https://www.forbes.com/sites/laurengensler/2016/07/18/bank-branch-closures-more-to-come/#a1c22cd5e04f.)\n",
    "\n",
    "In this exercise, you will create three time series plots of the number of banks, number of offices, and number of offices per bank between 1934 and 2017. \n",
    "\n",
    "\n",
    "### Part (a):\n",
    "Carefully follow the instructions below:\n",
    "\n",
    "1. Create a figure with three subplots (all in a single column). Set the figure size to (15,15).\n",
    "2. In the first subplot, create a line plot of the number of banks by year. Make the line dotted and black. Label the x-axis \"Year\" and the y-axis \"Number of banks\". Set the title of this subplot as \"Number of U.S. commercial banks, 1934-2017\".\n",
    "3. In the second subplot, create a line plot of the number of offices by year. Make the line dashed and red. Label the x-axis \"Year\" and the y-axis \"Number of offices\". Set the title of this subplot as \"Number of offices of U.S. commercial banks, 1934-2017\".\n",
    "4. In the third subplot, create a line plot of the average number of offices per bank. Make the line blue with a dash-dot pattern. Label the x-axis \"Year\" and the y-axis \"Number of offices per bank.\" Set the title of this subplot as \"Average number of offices per bank, 1934-2017\".\n"
   ]
  },
  {
   "cell_type": "code",
   "execution_count": null,
   "metadata": {},
   "outputs": [],
   "source": []
  },
  {
   "cell_type": "markdown",
   "metadata": {},
   "source": [
    "### Part (b):\n",
    "\n",
    "Why might plotting these three lines in the same subplot be problematic or confusing? Create a new markdown cell below to write your answer."
   ]
  },
  {
   "cell_type": "markdown",
   "metadata": {},
   "source": [
    "The main problem is that each of these series have vastly differnt magnitudes. The number of banks ranges from about 5,000 to 15,000, the number of offices ranges from around 15,000 to 90,000, and the number of offices per bank ranges from around 1 to 17. It would be very difficult to see the trends in these time series if they were plotted together. For example, the number of offices per bank would look flat."
   ]
  },
  {
   "cell_type": "markdown",
   "metadata": {},
   "source": [
    "### Part (c):\n",
    "\n",
    "Create a new figure that plots the three time series above on the same plot. Set the figure size to (15,5). Maintain the same line color and pattern for each series as above, and add a legend with labels for each line.\n",
    "\n",
    "Does this plot confirm your answer in part (b)?"
   ]
  },
  {
   "cell_type": "code",
   "execution_count": null,
   "metadata": {},
   "outputs": [],
   "source": []
  },
  {
   "cell_type": "markdown",
   "metadata": {},
   "source": [
    "# Excercise 3\n",
    "More work with U.S. GDP. The data come from FRED. The goal it to brush up on our data cleaning skills and dig into some of the setting of a plot that we can tweak to improve the look of a plot. \n",
    "\n",
    "### Part (a):\n",
    "The file GDPA.csv contains annual nominal GDP. Read it into a DataFrame and create a series of growth rates."
   ]
  },
  {
   "cell_type": "code",
   "execution_count": null,
   "metadata": {},
   "outputs": [],
   "source": []
  },
  {
   "cell_type": "markdown",
   "metadata": {},
   "source": [
    "Something went wrong, right? There is a gremlin in the data. Find a way to use read_csv() to turn the bad data into NaNs. Now compute the growth rates. Print the first 5 rows."
   ]
  },
  {
   "cell_type": "markdown",
   "metadata": {},
   "source": [
    "### Part (b) \n",
    "Plot the growth rates against the date. Make the figure size 10 by 10. Add a horizontal line at y=0. **Label the axis and add a title.**\n",
    "\n",
    "Use the `annotate()` method of the axes to add the text 'World War II' to the figure at (1952, 28). Use the `arrowprops` argument of `annotate()` to add an arrow pointing to (1942,28). Check out the annotate [documentation](https://matplotlib.org/users/annotations.html) for details. \n",
    "\n",
    "I like to set the `facecolor` of the arrow to 'black' and I like the `arrowstyle` '->'. You can use whatever type of arrow you like.    \n",
    "\n",
    "In the same manner, add the following labels to your figure. You decide where the arrow points and where the text goes. Make it look good! \n",
    "1. 'Great Recession' to year 2009\n",
    "2. 'Great Depression' to 1932"
   ]
  },
  {
   "cell_type": "code",
   "execution_count": null,
   "metadata": {},
   "outputs": [],
   "source": []
  },
  {
   "cell_type": "markdown",
   "metadata": {},
   "source": [
    "### Part (c):\n",
    "\n",
    "Recreate the plot from part (b), but omit the annotations. \n",
    "\n",
    "1. Zoom in on the recent period. Set the x limits to (1990, 2020).\n",
    "2. You will need to adjust the y limits also. Try (-2, 8).\n",
    "\n",
    "Maybe we are making a figure to go in a presentation. We want to make it easy to read, especially if the projector is bright and it washes out the figure.\n",
    "3. Change the line width to 3 \n",
    "4. Set the font size of the y-axis label to 14\n",
    "5. Set the font size of the title label to 20\n",
    "6. Remove the top and right 'spines' of the axes\n",
    "7. Set the font size of the tick labels to 14. (Check out the plt.xticks() documentation...)"
   ]
  },
  {
   "cell_type": "code",
   "execution_count": null,
   "metadata": {},
   "outputs": [],
   "source": []
  }
 ],
 "metadata": {
  "kernelspec": {
   "display_name": "Python 3",
   "language": "python",
   "name": "python3"
  },
  "language_info": {
   "codemirror_mode": {
    "name": "ipython",
    "version": 3
   },
   "file_extension": ".py",
   "mimetype": "text/x-python",
   "name": "python",
   "nbconvert_exporter": "python",
   "pygments_lexer": "ipython3",
   "version": "3.6.5"
  }
 },
 "nbformat": 4,
 "nbformat_minor": 2
}
