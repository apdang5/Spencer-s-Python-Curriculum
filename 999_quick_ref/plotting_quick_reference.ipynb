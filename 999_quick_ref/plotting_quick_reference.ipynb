{
 "cells": [
  {
   "cell_type": "markdown",
   "metadata": {},
   "source": [
    "# Plotting quick reference\n",
    "We've covered several plot types and options. Here is a quick overview. The matplotlib notebooks have more detail; this notebook is meant to jog your memory. The [documentation](https://matplotlib.org/contents.html#) is always a good place for answers. We like the [gallery](https://matplotlib.org/gallery/index.html), too.\n",
    "\n",
    "## Big overview\n",
    "1. Use `fig, ax = subplots(nrows, ncols, figsize=(height, width))` to generate a figure and axes\n",
    "2. Add plots to axes e.g. `ax.plot(x,y)`\n",
    "3. Add labels, titles, and legends (this step is not optional!)\n",
    "4. Add text or other annotations\n",
    "5. Call `plt.show()` to show the figure"
   ]
  },
  {
   "cell_type": "code",
   "execution_count": 1,
   "metadata": {},
   "outputs": [],
   "source": [
    "# We need pandas to manage data, matplotlilb to plot, datetime to handle dates, and datareader to get data. \n",
    "\n",
    "import pandas as pd     #load the pandas package and call it pd\n",
    "import matplotlib.pyplot as plt   # load the pyplot set of tools from the package matplotlib. Name it plt for short.\n",
    "from pandas_datareader import data, wb    # we are grabbing the data and wb functions from the package\n",
    "import datetime as dt                     # for time and date\n",
    "\n",
    "# The following is a jupyter magic command. It tells jupyter to insert the plots into the notebook\n",
    "# rather than a new window.\n",
    "%matplotlib inline      "
   ]
  },
  {
   "cell_type": "markdown",
   "metadata": {},
   "source": [
    "## Options\n",
    "These options work for most plot types (and these are not all the options!). You can always check the [documentation](https://matplotlib.org/). Typically useage is to list the options, separated by commas. \n",
    "```python\n",
    "ax.plot(x, y, option1, option2, option3)\n",
    "```\n",
    "### Lines\n",
    "* line color: `color = 'red'` (or blue, black, green...)\n",
    "* line width: `linewidth = 1.2` (bigger numbers are thicker lines)\n",
    "* line style: `linestyle = :` ([docs](https://matplotlib.org/2.0.2/api/lines_api.html); solid is '-'; dashed is '--'; dotted is ':') \n",
    "* alpha: `alpha = 0.5` (alpha in (0,1), smaller lighten the line color when the background is white)\n",
    "\n",
    "### Markers\n",
    "For line and scatter plots, data markers are very customizable. \n",
    "* `marker = '.'` ([docs](https://matplotlib.org/api/markers_api.html?highlight=marker#module-matplotlib.markers); a dot is '.'; triangle up is '^'; a plus is '+'; a square is 'x') \n",
    "* `s = 15` (larger numbers are larger markers) #  I can't get 'markersize' to work...\n",
    "\n",
    "### Spines\n",
    "Turns off lines on the box around the figure. \n",
    "```python\n",
    "ax.spines['right'].set_visible(False) # (right, left, top, bottom)\n",
    "```\n",
    "\n",
    "### Add text to the figure\n",
    "`text()` just adds text (duh) while `annotate()` adds text and an arrrow. \n",
    "```python\n",
    "ax.text(x, y, 'text')\n",
    "\n",
    "# xy is where the arrow points, xytext is where the text goes\n",
    "# the arrow properties are stored in a dict and passed to annotate\n",
    "my_props = {'facecolor':'black',  'arrowstyle':'->'}\n",
    "ax.annotate('text', xy=(x,y), xytext=(x,y), arrowprops = my_props) \n",
    "```\n",
    "\n",
    "### Legends\n",
    "You can add a label to the plot command to set up the legend text,\n",
    "```\n",
    "label = 'legend text'\n",
    "```\n",
    "then call the legend method to turn the legend on.\n",
    "```\n",
    "ax.legend(frameon = False)  # frameon controls the box around the legend\n",
    "```\n",
    "\n",
    "### Add horizontal or vertical lines\n",
    "```python\n",
    "ax.axhline(y=y_val, color='black')  # adds a horizontal line at y_val\n",
    "ax.axvline(x=x_val, color='black')  # adds a vertical line at x_val\n",
    "```\n"
   ]
  },
  {
   "cell_type": "markdown",
   "metadata": {},
   "source": [
    "## Time series plots\n",
    "\n",
    "Time on the x-axis and data on the y-axis.\n",
    "\n",
    "**Important**: We need to set up the dates as datetime objects."
   ]
  },
  {
   "cell_type": "code",
   "execution_count": 2,
   "metadata": {},
   "outputs": [
    {
     "data": {
      "text/html": [
       "<div>\n",
       "<style scoped>\n",
       "    .dataframe tbody tr th:only-of-type {\n",
       "        vertical-align: middle;\n",
       "    }\n",
       "\n",
       "    .dataframe tbody tr th {\n",
       "        vertical-align: top;\n",
       "    }\n",
       "\n",
       "    .dataframe thead th {\n",
       "        text-align: right;\n",
       "    }\n",
       "</style>\n",
       "<table border=\"1\" class=\"dataframe\">\n",
       "  <thead>\n",
       "    <tr style=\"text-align: right;\">\n",
       "      <th></th>\n",
       "      <th>GDPCA</th>\n",
       "      <th>PCECA</th>\n",
       "    </tr>\n",
       "    <tr>\n",
       "      <th>DATE</th>\n",
       "      <th></th>\n",
       "      <th></th>\n",
       "    </tr>\n",
       "  </thead>\n",
       "  <tbody>\n",
       "    <tr>\n",
       "      <th>1970-01-01</th>\n",
       "      <td>4951.262</td>\n",
       "      <td>646.724</td>\n",
       "    </tr>\n",
       "    <tr>\n",
       "      <th>1971-01-01</th>\n",
       "      <td>5114.325</td>\n",
       "      <td>699.937</td>\n",
       "    </tr>\n",
       "    <tr>\n",
       "      <th>1972-01-01</th>\n",
       "      <td>5383.282</td>\n",
       "      <td>768.153</td>\n",
       "    </tr>\n",
       "    <tr>\n",
       "      <th>1973-01-01</th>\n",
       "      <td>5687.207</td>\n",
       "      <td>849.575</td>\n",
       "    </tr>\n",
       "    <tr>\n",
       "      <th>1974-01-01</th>\n",
       "      <td>5656.465</td>\n",
       "      <td>930.161</td>\n",
       "    </tr>\n",
       "  </tbody>\n",
       "</table>\n",
       "</div>"
      ],
      "text/plain": [
       "               GDPCA    PCECA\n",
       "DATE                         \n",
       "1970-01-01  4951.262  646.724\n",
       "1971-01-01  5114.325  699.937\n",
       "1972-01-01  5383.282  768.153\n",
       "1973-01-01  5687.207  849.575\n",
       "1974-01-01  5656.465  930.161"
      ]
     },
     "execution_count": 2,
     "metadata": {},
     "output_type": "execute_result"
    }
   ],
   "source": [
    "# Grab some data\n",
    "# Get GDP and consumption data from FRED\n",
    "start = dt.datetime(1970, 1, 1)\n",
    "gdp_data = data.DataReader(['GDPCA','PCECA'], 'fred', start)\n",
    "gdp_data.head()"
   ]
  },
  {
   "cell_type": "code",
   "execution_count": 3,
   "metadata": {},
   "outputs": [
    {
     "data": {
      "image/png": "[encoded data removed]",
      "text/plain": [
       "<Figure size 720x432 with 1 Axes>"
      ]
     },
     "metadata": {
      "needs_background": "light"
     },
     "output_type": "display_data"
    }
   ],
   "source": [
    "# The index is already set to the date and the date is set to datetime. (Thanks FRED!) So we are ready to plot.\n",
    "# If it wasn't, we would call gdp_data['DATE'] = pd.to_datetime(gdp_data['DATE'])\n",
    "\n",
    "fig, ax = plt.subplots(figsize=(10,6))\n",
    "ax.plot(gdp_data.index, gdp_data['GDPCA'], color='red')\n",
    "ax.set_ylabel('bil. dollars')\n",
    "ax.set_title('U.S. GDP')\n",
    "ax.spines['top'].set_visible(False)\n",
    "ax.spines['right'].set_visible(False)\n",
    "\n",
    "plt.show() \n"
   ]
  },
  {
   "cell_type": "markdown",
   "metadata": {},
   "source": [
    "## Histograms\n",
    "How frequently does data occur? This plot tells the reader about the distribution of a variable. Let's plot the distribution of GDP growth rates."
   ]
  },
  {
   "cell_type": "code",
   "execution_count": 4,
   "metadata": {},
   "outputs": [
    {
     "data": {
      "image/png": "[encoded data removed]",
      "text/plain": [
       "<Figure size 720x432 with 1 Axes>"
      ]
     },
     "metadata": {
      "needs_background": "light"
     },
     "output_type": "display_data"
    }
   ],
   "source": [
    "# Compute growth rates with pct_change\n",
    "gdp_data['gdp_gr'] = gdp_data['GDPCA'].pct_change()*100  # multiply by 100 to get percentages\n",
    "\n",
    "fig, ax = plt.subplots(figsize=(10,6))\n",
    "\n",
    "# bins is a hist-specific option: the number of bars to create: how fine to bin the data\n",
    "# the growth rate calc creates a missing value for the first data point. We MUST drop it, or hist fails.\n",
    "ax.hist(gdp_data['gdp_gr'].dropna(), color='red', alpha=0.25, bins=20)  \n",
    "\n",
    "# add a line a x=0\n",
    "ax.axvline(x=0, color='black')\n",
    "\n",
    "ax.set_ylabel('fequency')\n",
    "ax.set_title('U.S. GDP growth')\n",
    "ax.set_xlabel('GDP growth rate')\n",
    "ax.spines['top'].set_visible(False)\n",
    "ax.spines['right'].set_visible(False)\n",
    "\n",
    "plt.show() \n"
   ]
  },
  {
   "cell_type": "markdown",
   "metadata": {},
   "source": [
    "## Scatter plots\n",
    "Plots two variables against each other. Great for showing the correlation between two variables. Let's plot the growth rate of GDP against the growth rate of consumption. What do we do with our extra income?"
   ]
  },
  {
   "cell_type": "code",
   "execution_count": 5,
   "metadata": {},
   "outputs": [
    {
     "data": {
      "image/png": "[encoded data removed]",
      "text/plain": [
       "<Figure size 720x432 with 1 Axes>"
      ]
     },
     "metadata": {
      "needs_background": "light"
     },
     "output_type": "display_data"
    }
   ],
   "source": [
    "# Compute growth rates with pct_change\n",
    "gdp_data['cons_gr'] = gdp_data['PCECA'].pct_change()*100  # multiply by 100 to get percentages\n",
    "\n",
    "fig, ax = plt.subplots(figsize=(10,6))\n",
    "\n",
    "ax.scatter(gdp_data['gdp_gr'], gdp_data['cons_gr'], color='blue', marker = '+', s=50)  # s is marker size\n",
    "\n",
    "ax.set_title('Output vs. Consumption')\n",
    "ax.set_ylabel('Consumption growth')\n",
    "ax.set_xlabel('GDP growth rate')\n",
    "\n",
    "# Add some text to the figure\n",
    "ax.text(5, 2, 'A positive relationship!')\n",
    "\n",
    "ax.spines['top'].set_visible(False)\n",
    "ax.spines['right'].set_visible(False)\n",
    "\n",
    "plt.show() "
   ]
  },
  {
   "cell_type": "markdown",
   "metadata": {},
   "source": [
    "## Bar plots\n",
    "One axis is categorical and the other is quantitative. Good for relatively few data points. Our go-to replacement for the pie chart. "
   ]
  },
  {
   "cell_type": "code",
   "execution_count": 8,
   "metadata": {},
   "outputs": [
    {
     "data": {
      "text/html": [
       "<div>\n",
       "<style scoped>\n",
       "    .dataframe tbody tr th:only-of-type {\n",
       "        vertical-align: middle;\n",
       "    }\n",
       "\n",
       "    .dataframe tbody tr th {\n",
       "        vertical-align: top;\n",
       "    }\n",
       "\n",
       "    .dataframe thead th {\n",
       "        text-align: right;\n",
       "    }\n",
       "</style>\n",
       "<table border=\"1\" class=\"dataframe\">\n",
       "  <thead>\n",
       "    <tr style=\"text-align: right;\">\n",
       "      <th></th>\n",
       "      <th>ranking</th>\n",
       "    </tr>\n",
       "    <tr>\n",
       "      <th>brand</th>\n",
       "      <th></th>\n",
       "    </tr>\n",
       "  </thead>\n",
       "  <tbody>\n",
       "    <tr>\n",
       "      <th>root beer</th>\n",
       "      <td>2</td>\n",
       "    </tr>\n",
       "    <tr>\n",
       "      <th>sprite</th>\n",
       "      <td>3</td>\n",
       "    </tr>\n",
       "    <tr>\n",
       "      <th>pepsi</th>\n",
       "      <td>5</td>\n",
       "    </tr>\n",
       "    <tr>\n",
       "      <th>coke</th>\n",
       "      <td>7</td>\n",
       "    </tr>\n",
       "    <tr>\n",
       "      <th>plain seltzer</th>\n",
       "      <td>10</td>\n",
       "    </tr>\n",
       "  </tbody>\n",
       "</table>\n",
       "</div>"
      ],
      "text/plain": [
       "               ranking\n",
       "brand                 \n",
       "root beer            2\n",
       "sprite               3\n",
       "pepsi                5\n",
       "coke                 7\n",
       "plain seltzer       10"
      ]
     },
     "execution_count": 8,
     "metadata": {},
     "output_type": "execute_result"
    }
   ],
   "source": [
    "# A fake dataset of sodas and my rankings of them\n",
    "soda_dict = {'brand':['coke', 'pepsi', 'root beer', 'plain seltzer', 'sprite'], 'ranking':[7,5,2,10,3]}\n",
    "\n",
    "# Make a datframe\n",
    "soda = pd.DataFrame(soda_dict)\n",
    "\n",
    "# Set the brand to the index\n",
    "soda.set_index('brand', inplace=True)\n",
    "\n",
    "# sort it, so the figure is sorted\n",
    "soda.sort_values('ranking', inplace=True)\n",
    "soda"
   ]
  },
  {
   "cell_type": "code",
   "execution_count": 9,
   "metadata": {},
   "outputs": [
    {
     "data": {
      "image/png": "[encoded data removed]",
      "text/plain": [
       "<Figure size 1080x432 with 2 Axes>"
      ]
     },
     "metadata": {
      "needs_background": "light"
     },
     "output_type": "display_data"
    }
   ],
   "source": [
    "# Create two axes on one figure\n",
    "fig, ax = plt.subplots(1, 2, figsize=(15,6))\n",
    "\n",
    "# make a vertical bar chart on the first axis\n",
    "ax[0].bar(soda.index, soda['ranking'], color='blue', alpha=0.25)  \n",
    "\n",
    "ax[0].set_title('My soda rankings, in vertical form')\n",
    "ax[0].set_ylabel('ranking')\n",
    "\n",
    "\n",
    "ax[0].spines['top'].set_visible(False)\n",
    "ax[0].spines['right'].set_visible(False)\n",
    "\n",
    "# add gridlines\n",
    "ax[0].grid(axis='y', color='white')\n",
    "\n",
    "# make a horizontal bar in the other axes\n",
    "ax[1].barh(soda.index, soda['ranking'], color='blue', alpha=0.25)  \n",
    "\n",
    "ax[1].set_title('My soda rankings, in horizontal form')\n",
    "ax[1].set_xlabel('ranking')\n",
    "\n",
    "\n",
    "ax[1].spines['top'].set_visible(False)\n",
    "ax[1].spines['right'].set_visible(False)\n",
    "\n",
    "# add gridlines\n",
    "ax[1].grid(axis='x', color='white')\n",
    "\n",
    "plt.show() "
   ]
  }
 ],
 "metadata": {
  "celltoolbar": "Slideshow",
  "kernelspec": {
   "display_name": "Python 3",
   "language": "python",
   "name": "python3"
  },
  "language_info": {
   "codemirror_mode": {
    "name": "ipython",
    "version": 3
   },
   "file_extension": ".py",
   "mimetype": "text/x-python",
   "name": "python",
   "nbconvert_exporter": "python",
   "pygments_lexer": "ipython3",
   "version": "3.6.6"
  }
 },
 "nbformat": 4,
 "nbformat_minor": 2
}
