{
 "cells": [
  {
   "cell_type": "markdown",
   "metadata": {},
   "source": [
    "## Web APIs for data\n",
    "We have been loading data from files using `read_csv()` and `read_excel()`. A second way to input data to python/pandas is by directly downloading data from a web server through an *application programming interface* or api. \n",
    "\n",
    "The [wikipedia page](https://en.wikipedia.org/wiki/Web_API) isn't that insightful, but an api is a way to directly querry a webserver and (in our case) ask for data. An api provides several advantages\n",
    "1. You only download the data you need\n",
    "2. You do not need to distribute data files with your code\n",
    "3. You have access to the 'freshest data'\n",
    "\n",
    "There are downsides, to using apis, too.\n",
    "\n",
    "1. You need to be online to retrive the data\n",
    "2. The group hosting the data may 'revise' the data, making it difficult to replicate you results\n",
    "\n",
    "On the whole, I find apis very convienent and useful. Let's dig in. "
   ]
  },
  {
   "cell_type": "markdown",
   "metadata": {},
   "source": [
    "### The packages\n",
    "The package `pandas_datareader` collects functions that interact with several popular data sources to access their apis. Thes include\n",
    "* Google finance\n",
    "* Morningstar\n",
    "* St. Louis Fed's Fred (one of my favorites)\n",
    "* The World Bank\n",
    "* Eurostat\n",
    "* Quandl\n"
   ]
  },
  {
   "cell_type": "markdown",
   "metadata": {},
   "source": [
    "### Installing packages with pip\n",
    "We use the Anaconda distribution which bundles python with many other useful packages. pandas_datareader, however, is not one of them. \n",
    "\n",
    "We will install the package using 'pip' the python package manager. \n",
    "1. Open a command window (open the start menu and type: 'cmd'). \n",
    "2. Run the command `pip install --user pandas_datareader` and hit enter\n",
    "\n",
    "That should do it. It might take a minute, and fill the command window with text, but in the end it should have installed. You will probably see a message about updating pip. We can safely ignore it.\n",
    "\n",
    "Now that the package is installed, we can import it into our program like usual. "
   ]
  },
  {
   "cell_type": "code",
   "execution_count": null,
   "metadata": {},
   "outputs": [],
   "source": [
    "import pandas as pd                       # pandas, shortened to pd\n",
    "\n",
    "# If you receive an error while trying to load data_reader try uncommenting the line below\n",
    "# This is/was a problem with an older version of pandas_datareader\n",
    "# pd.core.common.is_list_like = pd.api.types.is_list_like\n",
    "\n",
    "from pandas_datareader import data, wb    # we are grabbing the data and wb functions from the package\n",
    "import matplotlib.pyplot as plt           # for plotting\n",
    "import datetime as dt                     # for time and date"
   ]
  },
  {
   "cell_type": "markdown",
   "metadata": {},
   "source": [
    "### FRED\n",
    "The FRED database is hosted by the St. Louis FRB. It house lots of economic and financial data. It is US-centric but has some international data, too. \n",
    "\n",
    "To use the FRED api you need to know the variable codes. The easiest way to do it to search on the [FRED website](https://fred.stlouisfed.org/).  \n",
    "\n",
    "The pandas_datareader documentation for FRED is [here](https://pandas-datareader.readthedocs.io/en/latest/remote_data.html#fred)."
   ]
  },
  {
   "cell_type": "code",
   "execution_count": null,
   "metadata": {},
   "outputs": [],
   "source": [
    "codes = ['GDPCA', 'LFWA64TTUSA647N']  # these codes are for real US gdp and the working age poplulation\n",
    "                                      # the first code seems intuitive. the second does not\n",
    "    \n",
    "# We have the codes. Now go get the data. The DataReader() function returns a DataFrame\n",
    "# Create datetime objects for the start date. If you do not spec an end date it returns up to the most\n",
    "# recent date\n",
    "start = dt.datetime(1970, 1, 1)\n",
    "fred = data.DataReader(codes, 'fred', start)\n",
    "\n",
    "fred.head()\n"
   ]
  },
  {
   "cell_type": "code",
   "execution_count": null,
   "metadata": {},
   "outputs": [],
   "source": [
    "fred.columns = ['gdp', 'wap']\n",
    "\n",
    "# Let's plot real gdp per working age person\n",
    "fred['gdp_wap'] = fred['gdp']*1000000000/fred['wap']  # gdp data is in billions\n",
    "\n",
    "fred.head()"
   ]
  },
  {
   "cell_type": "code",
   "execution_count": null,
   "metadata": {},
   "outputs": [],
   "source": [
    "\n",
    "fig, ax = plt.subplots(figsize=(10,5))\n",
    "ax.plot(fred.index, fred['gdp_wap'], color='red')\n",
    "\n",
    "ax.set_ylabel('2012 dollars')\n",
    "ax.set_title('U.S. real GDP per working-age person')\n",
    "\n",
    "ax.spines['top'].set_visible(False)\n",
    "ax.spines['right'].set_visible(False)\n",
    "\n",
    "plt.show()\n",
    "\n"
   ]
  },
  {
   "cell_type": "markdown",
   "metadata": {},
   "source": [
    "### Stock prices with Google Finance\n",
    "\n",
    "The [documentation](https://pandas-datareader.readthedocs.io/en/latest/remote_data.html#google-finance) now features this warning: \n",
    "\n",
    ">Google’a API has become less reliable during 2017. While the google datareader often works as expected, it is not uncommon to experience a range of errors when attempting to read data, especially in bulk.\n",
    "\n",
    "Another potential downside of apis: They can change, breaking old code. "
   ]
  },
  {
   "cell_type": "markdown",
   "metadata": {},
   "source": [
    "### Stock prices with iex\n",
    "\n",
    "According to the [docs](https://pandas-datareader.readthedocs.io/en/latest/remote_data.html#morningstar):\n",
    ">The Investors Exchange (IEX) provides a wide range of data through an API. Historical stock prices are available for up to 5 years."
   ]
  },
  {
   "cell_type": "code",
   "execution_count": null,
   "metadata": {},
   "outputs": [],
   "source": [
    "start = dt.datetime(2017, 1, 1)\n",
    "end = dt.datetime(2018, 10, 1)\n",
    "\n",
    "sym = 'HOG'\n",
    "iex = data.DataReader(sym, 'iex', start, end)"
   ]
  },
  {
   "cell_type": "code",
   "execution_count": null,
   "metadata": {},
   "outputs": [],
   "source": [
    "iex.head()"
   ]
  },
  {
   "cell_type": "code",
   "execution_count": null,
   "metadata": {},
   "outputs": [],
   "source": [
    "fig, ax = plt.subplots(figsize=(10,5))\n",
    "ax.plot(iex.index, iex['close'], color='blue')\n",
    "\n",
    "ax.set_ylabel('closing price')\n",
    "ax.set_title('Harley Davidson stock prices')\n",
    "\n",
    "ax.spines['top'].set_visible(False)\n",
    "ax.spines['right'].set_visible(False)\n",
    "\n",
    "plt.show()"
   ]
  },
  {
   "cell_type": "code",
   "execution_count": null,
   "metadata": {},
   "outputs": [],
   "source": [
    "# Ahhh! Not a good looking figure.\n",
    "\n",
    "# We need to set the index to a datetime object so mpl can get the axis right...\n",
    "iex.index = pd.to_datetime(iex.index)"
   ]
  },
  {
   "cell_type": "code",
   "execution_count": null,
   "metadata": {},
   "outputs": [],
   "source": [
    "fig, ax = plt.subplots(figsize=(10,5))\n",
    "ax.plot(iex.index, iex['close'], color='blue')\n",
    "\n",
    "ax.set_ylabel('closing price')\n",
    "ax.set_title('Harley Davidson stock prices')\n",
    "\n",
    "ax.spines['top'].set_visible(False)\n",
    "ax.spines['right'].set_visible(False)\n",
    "\n",
    "plt.show()"
   ]
  },
  {
   "cell_type": "markdown",
   "metadata": {},
   "source": [
    "## Practice: APIs\n",
    "\n",
    "Take a few minutes and try the following. Feel free to chat with those around if you get stuck. The TA and I are here, too.\n",
    "\n",
    "How has inflation in the United States evolved over the last 60 years? Let's investigate.\n",
    "\n",
    "1. Go the FRED website and find the code for the 'Consumer price index for all urban consumers: All items less food and energy' \n",
    "2. Use the api to get the data from 1960 to the most recent. "
   ]
  },
  {
   "cell_type": "code",
   "execution_count": null,
   "metadata": {},
   "outputs": [],
   "source": []
  },
  {
   "cell_type": "markdown",
   "metadata": {},
   "source": [
    "3. Create a variable in your DataFrame that hold the growth rate of the CPI --- the inflation rate. Compute it in percentage terms."
   ]
  },
  {
   "cell_type": "code",
   "execution_count": null,
   "metadata": {},
   "outputs": [],
   "source": []
  },
  {
   "cell_type": "markdown",
   "metadata": {},
   "source": [
    "4. Plot it. What patterns do you see? "
   ]
  },
  {
   "cell_type": "code",
   "execution_count": null,
   "metadata": {},
   "outputs": [],
   "source": []
  },
  {
   "cell_type": "markdown",
   "metadata": {},
   "source": [
    "5. Challenging. We computed the month-to-month inflation rate above. This is not the inflation rate we usually care about. Can you compute and plot the year-over-year inflation rate? For example, the inflation rate for 1962-05-01 would be the cpi in 1962-05-01 divided by the cpi in 1961-05-01. \\[Hint: Check the documentation for `pct_change()`."
   ]
  },
  {
   "cell_type": "code",
   "execution_count": null,
   "metadata": {},
   "outputs": [],
   "source": []
  },
  {
   "cell_type": "code",
   "execution_count": null,
   "metadata": {},
   "outputs": [],
   "source": []
  },
  {
   "cell_type": "markdown",
   "metadata": {},
   "source": [
    "6. Annotate the decrease in inflaton around 1983 as 'Volker disinflation'"
   ]
  }
 ],
 "metadata": {
  "celltoolbar": "Attachments",
  "kernelspec": {
   "display_name": "Python 3",
   "language": "python",
   "name": "python3"
  },
  "language_info": {
   "codemirror_mode": {
    "name": "ipython",
    "version": 3
   },
   "file_extension": ".py",
   "mimetype": "text/x-python",
   "name": "python",
   "nbconvert_exporter": "python",
   "pygments_lexer": "ipython3",
   "version": "3.6.5"
  }
 },
 "nbformat": 4,
 "nbformat_minor": 2
}
