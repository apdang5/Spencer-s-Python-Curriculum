{
 "cells": [
  {
   "cell_type": "markdown",
   "metadata": {},
   "source": [
    "# Exam \\#1: Due end of class, October 15\n",
    "\n",
    "**Important:** You need these three files to complete this exam: \n",
    "1. CPS_March_2016.csv\n",
    "2. presidents.csv \n",
    "3. SP500_daily.csv\n",
    "\n",
    "Answer the questions below in a jupyter notebook. You can simply add cells to this notebook and enter your answers. When you are finished, print the notebook and hand it in during class. \\[To print: From the file menu, choose 'print preview' which will open a new tab with the notebook ready to print. Please print on both sides of paper if possible.\\]\n",
    "\n",
    "A reminder: Ruhl's office hours are T/R 2:30PM-3:30PM in Soc Sci 7444 and McWeeny's office hours are Monday 9:30AM-11:30AM in Soc Sci 6470.  \n",
    "\n",
    "* You may use your notes, books, and the internet\n",
    "* Do not consult with other people. This work should be entirely your own. \n"
   ]
  },
  {
   "cell_type": "markdown",
   "metadata": {},
   "source": [
    "# Exercise 0: Your name\n",
    "Replace 'Your name' above with your actual name. Enter it as last name, first name. Don't forget the comma!"
   ]
  },
  {
   "cell_type": "markdown",
   "metadata": {},
   "source": [
    "# Exercise 1: Caesar Cipher\n",
    "\n",
    "The following code cell contains an excerpt from a speech by a famous American. However, this speech is not in plain English. Instead, it has been encrypted by an algorithm known as a Caesar Cipher.\n",
    "\n",
    "A Caesar Cipher replaces each letter of text with a letter a fixed number of positions up or down the alphabet. **In this case, the speech has been shifted 5 characters to the left (equivalently, 21 characters to the right).** Thus the letter \"A\" was changed to the letter \"V\", and the letter \"R\" was changed to the letter \"M\". (Note that when the end of the alphabet is reached, the algorithm goes back to the beginning and resumes counting from \"A\".) However, all punctuation marks (including spaces between words) remain unchanged.\n",
    "\n",
    "Your task is to decrypt this speech. Your program should store the actual English text of the speech in a new variable called `decrypted_speech` and then print the text contained in this variable at the end.\n",
    "\n",
    "To begin, run the following code cell to assign the encrypted speech to the variable `encrypted_speech` as a string. Then create a new code cell to contain your program.\n",
    "\n",
    "\n",
    "## Hint:\n",
    "\n",
    "Python can convert individual string characters into ASCII code integers. Thankfully, these are numbered sequentially; the ASCII code for \"A\" is 65, and the ASCII code for \"Z\" is 90. This will be very helpful for your program. To convert a character to its ASCII integer and back again, you will need to use the built-in Python functions `ord()` and `chr()`. You may also find the method `isalpha()` useful. \n",
    "\n",
    "### One more thing...\n",
    "This kind of cypher is a very common computer programming problem. That means it would not be difficult to find a solution to this problem (in python, I'm sure) floating around the web. Please avoid those webpages and work out your own solution. "
   ]
  },
  {
   "cell_type": "code",
   "execution_count": null,
   "metadata": {},
   "outputs": [],
   "source": [
    "encrypted_speech = '''\n",
    "DO DN IJO OCZ XMDODX RCJ XJPION; IJO OCZ HVI RCJ KJDION JPO CJR OCZ NOMJIB HVI NOPHWGZN, \n",
    "JM RCZMZ OCZ YJZM JA YZZYN XJPGY CVQZ YJIZ OCZH WZOOZM. OCZ XMZYDO WZGJIBN OJ OCZ HVI RCJ\n",
    "DN VXOPVGGT DI OCZ VMZIV, RCJNZ AVXZ DN HVMMZY WT YPNO VIY NRZVO VIY WGJJY; RCJ NOMDQZN \n",
    "QVGDVIOGT; RCJ ZMMN, RCJ XJHZN NCJMO VBVDI VIY VBVDI, WZXVPNZ OCZMZ DN IJ ZAAJMO RDOCJPO\n",
    "ZMMJM VIY NCJMOXJHDIB; WPO RCJ YJZN VXOPVGGT NOMDQZ OJ YJ OCZ YZZYN; RCJ FIJRN BMZVO \n",
    "ZIOCPNDVNHN, OCZ BMZVO YZQJODJIN; RCJ NKZIYN CDHNZGA DI V RJMOCT XVPNZ; RCJ VO OCZ WZNO\n",
    "FIJRN DI OCZ ZIY OCZ OMDPHKC JA CDBC VXCDZQZHZIO, VIY RCJ VO OCZ RJMNO, DA CZ AVDGN, VO\n",
    "GZVNO AVDGN RCDGZ YVMDIB BMZVOGT, NJ OCVO CDN KGVXZ NCVGG IZQZM WZ RDOC OCJNZ XJGY VIY \n",
    "ODHDY NJPGN RCJ IZDOCZM FIJR QDXOJMT IJM YZAZVO.\n",
    "-- OCZJYJMZ MJJNZQZGO'''"
   ]
  },
  {
   "cell_type": "code",
   "execution_count": null,
   "metadata": {},
   "outputs": [],
   "source": []
  },
  {
   "cell_type": "markdown",
   "metadata": {},
   "source": [
    "# Exercise 2: Stock Returns and Presidential Administrations\n",
    "\n",
    "Many U.S. presidents have attempted to take credit for the strong performance of the economy or stock market, and political commentators often remark that one party's policies are more favorable for economic growth.\n",
    "\n",
    "In this exercise, your task is to make a time series plot of the quarterly returns of the S&P 500 stock market index and shade the plot background based on the president's party affiliation: blue for Democrats, red for Republicans.\n",
    "\n",
    "The file \"presidents.csv\" contains data on the U.S. presidents since 1950, including their name, the start and end dates of their administration, and their political party affiliation. The file \"SP500_daily.csv\" contains data on the daily performance of the S&P 500 stock market index since January 3, 1950.\n",
    "\n",
    "### Part (a):\n",
    "\n",
    "\n",
    "1. Import \"presidents.csv\" into a Pandas dataframe. Set the president's name as the index, and convert the start and end dates to datetime objects.\n",
    "2. Import \"SP500_daily.csv\" into a Pandas dataframe. Convert the column names to lower case, convert the date variable to a datetime object, and set the date as the index.\n",
    "3. Change the frequency of the stock data from daily to quarterly, using the `mean()` method.\n",
    "4. Create a new column in the stock data that contains the quarterly growth rate (i.e., return) of the S&P 500 **in percent.** Use the 'close' column to compute the return.\n"
   ]
  },
  {
   "cell_type": "code",
   "execution_count": null,
   "metadata": {},
   "outputs": [],
   "source": []
  },
  {
   "cell_type": "markdown",
   "metadata": {},
   "source": [
    "5. Plot the quarterly returns of the S&P 500 over time as a solid black line. Set the figure size to (11,5). Add a horizontal dashed line at y=0. Set the limits of the horizontal axis to April 12, 1945 and January 20, 2021. Label the vertical axis as \"Percent return\" and title the plot \"Quarterly returns of the S&P 500 by presidential party\". Finally, remove the borders from the top and right sides of the figure.\n",
    "6. Now all you need to do is shade the time period of each administration with the appropriate color. To do so, you should use a for-loop to loop through each president and use the function `ax.axvspan()` to shade the appropriate time period. Again, use blue for Democrats and red for Republicans, and set the alpha composite to 0.4.\n",
    "7. **Not required, but fun and challenging:** Make a legend describing the shading scheme, **and make sure that each party appears only once in the legend.**"
   ]
  },
  {
   "cell_type": "code",
   "execution_count": null,
   "metadata": {},
   "outputs": [],
   "source": []
  },
  {
   "cell_type": "markdown",
   "metadata": {},
   "source": [
    "### Part (b):\n",
    "In the cell below, reflect on the figure you created in part (a). Do you think it is 'graphically excellent?' Why or why not? What, if anything would you change? "
   ]
  },
  {
   "cell_type": "code",
   "execution_count": null,
   "metadata": {},
   "outputs": [],
   "source": []
  },
  {
   "cell_type": "markdown",
   "metadata": {},
   "source": [
    "# Exercise 3: Wages, Education, and Gender\n",
    "\n",
    "It is well-known that on average, women are paid less than men. However, one might be curious to know whether this depends on educational attainment: is the gender pay gap larger or smaller for people with advanced degrees?\n",
    "\n",
    "Let's dig into this question. The file \"CPS_March_2016.csv\" contains the hourly wage, level of education, gender, and full-time work status of a sample of U.S. workers from the Current Population Survey (CPS) from March 2016.\n",
    "\n",
    "### Part (a):\n",
    "1. In the following code cell, import the file \"CPS_March_2016.csv\" into a Pandas dataframe. Be careful with missing values.\n",
    "2. Drop workers who didn't work full time last year or whose hourly wage was less than \\$5 or more than \\$200.\n",
    "3. Print a complete sentence reporting the number of observations, the number of females, and the number of males in the cleaned sample.\n",
    "4. Print a complete sentence reporting the average hourly wage for females and for males. Report the numbers in dollars and cents."
   ]
  },
  {
   "cell_type": "code",
   "execution_count": null,
   "metadata": {},
   "outputs": [],
   "source": []
  },
  {
   "cell_type": "markdown",
   "metadata": {},
   "source": [
    "### Part (b)\n",
    "1. Compute the average wage for men and the average wage for women with a college degree.\n",
    "2. Compute the average wage for men and the average wage for women with a graduate degree.\n",
    "3. Report, in a complete sentence, the ratio of the female avg wage to the male average wage for those with a college degree. Report three decimal places.\n",
    "4. Report, in a complete sentence, the ratio of the female avg wage to the male average wage for those with a graduate degree. Report three decimal places.\n",
    "5. Repeat steps 1-4, but computing the standard deviations of the wages. "
   ]
  },
  {
   "cell_type": "code",
   "execution_count": null,
   "metadata": {},
   "outputs": [],
   "source": []
  }
 ],
 "metadata": {
  "kernelspec": {
   "display_name": "Python 3",
   "language": "python",
   "name": "python3"
  },
  "language_info": {
   "codemirror_mode": {
    "name": "ipython",
    "version": 3
   },
   "file_extension": ".py",
   "mimetype": "text/x-python",
   "name": "python",
   "nbconvert_exporter": "python",
   "pygments_lexer": "ipython3",
   "version": "3.6.5"
  }
 },
 "nbformat": 4,
 "nbformat_minor": 1
}
