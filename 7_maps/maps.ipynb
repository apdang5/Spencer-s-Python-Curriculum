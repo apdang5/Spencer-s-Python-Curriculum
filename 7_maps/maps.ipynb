{
 "cells": [
  {
   "cell_type": "markdown",
   "metadata": {},
   "source": [
    "# Maps\n",
    "\n",
    "files neede = ('cb_2017_us_state_5m.shp', 'cb_2017_us_county_5m/cb_2017_us_county_5m.shp', 'results.csv')\n",
    "\n",
    "Okay, we now know enough about figures and pandas to get a map off the ground. \n",
    "\n",
    "We will use the geopandas package to plot our maps. Maps are really quite complicated. We are trying to project a spherical surface onto a flat figure, which is inherently a complicated endeavor. Luckily, geopandas will handle most of it for us. "
   ]
  },
  {
   "cell_type": "code",
   "execution_count": null,
   "metadata": {},
   "outputs": [],
   "source": [
    "import pandas as pd                         # pandas for data management\n",
    "import geopandas                            # geopandas for maps work\n",
    "from shapely.geometry import Point          # shapely handles the coordinate references for plotting shapes\n",
    "import matplotlib.pyplot as plt             # matplotlib for plotting details"
   ]
  },
  {
   "cell_type": "markdown",
   "metadata": {},
   "source": [
    "### Setting up the GeoDataFrame\n",
    "Let's start by plotting some cities. The DataFrame below holds longitudes and latitudes of major South American cities. Our goal is to turn them into something we can plot---in this case, a GeoDataFrame."
   ]
  },
  {
   "cell_type": "code",
   "execution_count": null,
   "metadata": {},
   "outputs": [],
   "source": [
    "df = pd.DataFrame(\n",
    "    {'City': ['Buenos Aires', 'Brasilia', 'Santiago', 'Bogota', 'Caracas'],\n",
    "     'Country': ['Argentina', 'Brazil', 'Chile', 'Colombia', 'Venezuela'],\n",
    "     'Latitude': [-34.58, -15.78, -33.45, 4.60, 10.48],\n",
    "     'Longitude': [-58.66, -47.91, -70.66, -74.08, -66.86]})\n",
    "df.head()"
   ]
  },
  {
   "cell_type": "markdown",
   "metadata": {},
   "source": [
    "We need tuples of coordinates to map the cities. We zip together lat and long to create the tuples and store them in a column named 'Coordinates'."
   ]
  },
  {
   "cell_type": "code",
   "execution_count": null,
   "metadata": {},
   "outputs": [],
   "source": [
    "df['Coordinates'] = list(zip(df.Longitude, df.Latitude))\n",
    "df.head()"
   ]
  },
  {
   "cell_type": "markdown",
   "metadata": {},
   "source": [
    "Next, we turn the tuple into a [Point](http://toblerity.org/shapely/manual.html#spatial-data-model) object. Notice that we imported Point from Shapely in the first code cell. We use the `apply()` method of DataFrame to apply the Point function to each row of the Coordinates column."
   ]
  },
  {
   "cell_type": "code",
   "execution_count": null,
   "metadata": {},
   "outputs": [],
   "source": [
    "df['Coordinates'] = df['Coordinates'].apply(Point)\n",
    "df.head()"
   ]
  },
  {
   "cell_type": "markdown",
   "metadata": {},
   "source": [
    "We now have a column of Point objects. \n",
    "\n",
    "We turn the DataFrame into a **GeoDataFrame**, which is a data structure that understands how to plot maps. The **important** part here is that we specify the column that contains the `geometery` data. From the [docs](http://geopandas.org/data_structures.html):\n",
    "\n",
    "> The most important property of a GeoDataFrame is that it always has one GeoSeries column that holds a special status. This GeoSeries is referred to as the GeoDataFrame’s “geometry”. When a spatial method is applied to a GeoDataFrame (or a spatial attribute like area is called), this commands will always act on the “geometry” column.\n",
    "\n",
    "In our case, the geometry data are the points in the 'Coordinates' column. "
   ]
  },
  {
   "cell_type": "code",
   "execution_count": null,
   "metadata": {},
   "outputs": [],
   "source": [
    "gdf = geopandas.GeoDataFrame(df, geometry='Coordinates')\n",
    "gdf.head()"
   ]
  },
  {
   "cell_type": "code",
   "execution_count": null,
   "metadata": {},
   "outputs": [],
   "source": [
    "# Doesn't look different than a vanilla DataFrame...let's make sure we have what we want.\n",
    "print('gdf is of type:', type(gdf))\n",
    "\n",
    "# And how can we tell which column is the geometry column?\n",
    "print('\\nThe geometry column is:', gdf.geometry.name)"
   ]
  },
  {
   "cell_type": "markdown",
   "metadata": {},
   "source": [
    "### Plotting the map\n",
    "Okay, we have our points in the GeoDataFrame. Let's plot the locations on a map. We proceed in three steps:\n",
    "1. Get the map\n",
    "2. Plot the map\n",
    "3. Plot the points on the map\n"
   ]
  },
  {
   "cell_type": "markdown",
   "metadata": {},
   "source": [
    "### 1. Get the map\n",
    "[Natural Earth](https://www.naturalearthdata.com/) is the name of the organiztion that compiled the map data. The file provides the outlines of countries over which we will plot the locations of the cities in our GeoDataFrame. Geopandas comes with this data bundled into it, so we do not have to go get it. Thanks geopandas! "
   ]
  },
  {
   "cell_type": "code",
   "execution_count": null,
   "metadata": {},
   "outputs": [],
   "source": [
    "# Step 1: Get the map. \n",
    "# geopandas comes with some datasets that define maps \n",
    "# Here, we grab a low-resolution Natural Earth map\n",
    "# We load it into a GeoDataFrame\n",
    "world = geopandas.read_file(geopandas.datasets.get_path('naturalearth_lowres'))\n",
    "\n",
    "world.head()"
   ]
  },
  {
   "cell_type": "code",
   "execution_count": null,
   "metadata": {},
   "outputs": [],
   "source": [
    "# Which column hold the geometry data?\n",
    "world.geometry.name"
   ]
  },
  {
   "cell_type": "markdown",
   "metadata": {},
   "source": [
    "This is another GeoDataFrame. The geometry data are the column named 'geometry'. "
   ]
  },
  {
   "cell_type": "markdown",
   "metadata": {},
   "source": [
    "### A quick word about polygons\n",
    "\n",
    "\n",
    "Instead of Points, the geometery are POLYGONs. The polygons are the shapes of countries. "
   ]
  },
  {
   "cell_type": "code",
   "execution_count": null,
   "metadata": {},
   "outputs": [],
   "source": [
    "# Hello Albania\n",
    "world.loc[2,'geometry']"
   ]
  },
  {
   "cell_type": "markdown",
   "metadata": {},
   "source": [
    "Wow, that was cool.\n",
    "\n",
    "A polygon is a loop of points connected by straight lines (e.g., triangle or rectangle). The more points we have, the closer the polygon can approximate non-linear shapes. So Albania's shape is defined by many points connected by lines.  "
   ]
  },
  {
   "cell_type": "code",
   "execution_count": null,
   "metadata": {},
   "outputs": [],
   "source": [
    "# Returns two arrays that hold the x and y coordinates of the points that define the polygon's exterior.\n",
    "x, y = world.loc[2,'geometry'].exterior.coords.xy\n",
    "\n",
    "# How many points?\n",
    "print('Points in the exterior of Albania:', len(x))\n"
   ]
  },
  {
   "cell_type": "code",
   "execution_count": null,
   "metadata": {},
   "outputs": [],
   "source": [
    "# Afghanistan is a more complicated shape\n",
    "world.loc[0,'geometry']"
   ]
  },
  {
   "cell_type": "code",
   "execution_count": null,
   "metadata": {},
   "outputs": [],
   "source": [
    "# Returns two arrays that hold the x and y coordinates of the points that define the polygon's exterior.\n",
    "x, y = world.loc[0, 'geometry'].exterior.coords.xy\n",
    "\n",
    "# How many points?\n",
    "print('Points in the exterior of Afghanistan:', len(x))"
   ]
  },
  {
   "cell_type": "markdown",
   "metadata": {},
   "source": [
    "### 2. Ploting the map\n",
    "\n",
    "Here is the code. Details in the cell below it. "
   ]
  },
  {
   "cell_type": "code",
   "execution_count": null,
   "metadata": {},
   "outputs": [],
   "source": [
    "# Step 2: Plot the map\n",
    "\n",
    "fig, gax = plt.subplots(figsize=(10,10))\n",
    "\n",
    "# By only plotting rows in which the continent is 'South America' we only plot SA.\n",
    "world[world['continent'] == 'South America'].plot(ax = gax, edgecolor='black',color='white')\n",
    "\n",
    "gax.set_xlabel('longitude')  # By the way, if you haven't read the book 'longitude' by Dava Sobel, you should...\n",
    "gax.set_ylabel('latitude')\n",
    "\n",
    "gax.spines['top'].set_visible(False)\n",
    "gax.spines['right'].set_visible(False)\n",
    "\n",
    "plt.show()\n"
   ]
  },
  {
   "cell_type": "markdown",
   "metadata": {},
   "source": [
    "### GeoDataFrame plots\n",
    "Nice one! That was easy, and now we have a map. \n",
    "\n",
    "Note the different syntax for plot. We have been using the `plot()` method of matplotlib axes objects, so we usually called \n",
    "```python\n",
    "gax.plot(x, y)\n",
    "```\n",
    "which plotted x against y on the axis gax. \n",
    "\n",
    "With a GeoDataFrame, we invoke the `plot()` method of a GeoDataFrame object with\n",
    "```\n",
    "gdf.plot(ax = gax)\n",
    "```\n",
    "which will plot the geometry data in gdf on the axis gax.  This is similar to the syntax that seaborn uses. "
   ]
  },
  {
   "cell_type": "markdown",
   "metadata": {},
   "source": [
    "### Other options\n",
    "Notice that lots of the regular matplotlib options still work. I can still turn of the top and right spines (do I want to?) and I can add x and y axes labels. The parameter 'edgecolor' sets the line colors, etc. \n",
    "\n",
    "It looks like I didn't put a title on my plot. Poor form. Let's fix it when we add the cities. "
   ]
  },
  {
   "cell_type": "markdown",
   "metadata": {},
   "source": [
    "### 3. Plot the cities on the map"
   ]
  },
  {
   "cell_type": "code",
   "execution_count": null,
   "metadata": {},
   "outputs": [],
   "source": [
    "# Step 3: plot the cities onto the map\n",
    "# We mostly use the code from before --- we still want the country borders ploted --- and we add a command to plot the cities\n",
    "fig, gax = plt.subplots(figsize=(10,10))\n",
    "\n",
    "# By only plotting rows in which the continent is 'South America' we only plot, well, South America.\n",
    "world[world['continent'] == 'South America'].plot(ax = gax, edgecolor='black',color='white')\n",
    "\n",
    "# This plot the cities. It's the same sytax, but we are plotting from a different GeoDataFrame. I want the \n",
    "# cities as pale red dots. \n",
    "gdf.plot(ax=gax, color='red', alpha = 0.5)\n",
    "\n",
    "gax.set_xlabel('longitude')  \n",
    "gax.set_ylabel('latitude')\n",
    "gax.set_title('South America')\n",
    "\n",
    "gax.spines['top'].set_visible(False)\n",
    "gax.spines['right'].set_visible(False)\n",
    "\n",
    "plt.show()"
   ]
  },
  {
   "cell_type": "markdown",
   "metadata": {},
   "source": [
    "### Label the points\n",
    "\n",
    "Sweet. What else might we want here? How about some labels next to the dots? \n",
    "\n",
    "Each label is a `text()` call. Let's automate this. Here is the code, we describe it below. "
   ]
  },
  {
   "cell_type": "code",
   "execution_count": null,
   "metadata": {},
   "outputs": [],
   "source": [
    "# Step 3: plot the cities onto the map\n",
    "# We mostly use the code from before --- we still want the country borders ploted --- and we add a command to plot the cities\n",
    "fig, gax = plt.subplots(figsize=(10,10))\n",
    "\n",
    "# By only plotting rows in which the continent is 'South America' we only plot, well, South America.\n",
    "world[world['continent'] == 'South America'].plot(ax = gax, edgecolor='black',color='white')\n",
    "\n",
    "# This plot the cities. It's the same sytax, but we are plotting from a different GeoDataFrame. I want the \n",
    "# cities as pale red dots. \n",
    "gdf.plot(ax=gax, color='red', alpha = 0.5)\n",
    "\n",
    "gax.set_xlabel('longitude')  \n",
    "gax.set_ylabel('latitude')\n",
    "\n",
    "gax.spines['top'].set_visible(False)\n",
    "gax.spines['right'].set_visible(False)\n",
    "\n",
    "# Label the cities\n",
    "for x, y, label in zip(gdf['Coordinates'].x, gdf['Coordinates'].y, gdf['City']):\n",
    "    gax.text(x, y, label)\n",
    "\n",
    "plt.show()"
   ]
  },
  {
   "cell_type": "markdown",
   "metadata": {},
   "source": [
    "### Adding labels to points\n",
    "That took more work than I expected. Let's talk through that code. The first bit of code is \n",
    "```python\n",
    "for x, y, label in zip(gdf['Coordinates'].x, gdf['Coordinates'].y, gdf['City']):\n",
    "```\n",
    "1. `for` is looping over the rows of the GeoDataFrame\n",
    "2. `gdf['Coordinates'].x, gdf['Coordinates'].y, gdf['City']` takes the x part of the coordinate, the y part of the coordinate and the name of the city for the row being looped over.\n",
    "3. `zip()` combines the x-coord, the y-coord, and the name together\n",
    "4. `x, y, label` will hold the three values. \n",
    "\n",
    "So, for each row, the `for` loops over, x is the x-coord, y is the y-coord, and label is the city name for city defined in that row. We use this data with `text()` to apply the label at point (x,y)\n",
    "```python\n",
    "gax.text(x , y, label)\n",
    "```"
   ]
  },
  {
   "cell_type": "markdown",
   "metadata": {},
   "source": [
    "### Improving the labels\n",
    "The labels get the job done, but they are a bit ugly. In particular, they are sitting on top of the dot. \n",
    "\n",
    "We can use `annotate()` to fix this up. We have used `annotate()` before to add arrows connecting the text to a point. Here, we will use the ability to specify an offset of the text from the point. Here is the syntax\n",
    "```python\n",
    "gax.annotate(label, xy=(x,y), xytext=(3,3), textcoords='offset points')\n",
    "```\n",
    "The parameter 'xy' is the point we are referencing. The parameter 'xytext' hold the number of points to offset the text from the point. The argument 'offset points' tells annotate that the (3,3) tuple we passed to 'xytext' is full of points to offset the label from the text.  "
   ]
  },
  {
   "cell_type": "code",
   "execution_count": null,
   "metadata": {},
   "outputs": [],
   "source": [
    "# Step 3: plot the cities onto the map\n",
    "# We mostly use the code from before --- we still want the country borders ploted --- and we add a command to plot the cities\n",
    "fig, gax = plt.subplots(figsize=(10,10))\n",
    "\n",
    "# By only plotting rows in which the continent is 'South America' we only plot, well, South America.\n",
    "world[world['continent'] == 'South America'].plot(ax = gax, edgecolor='black',color='white')\n",
    "\n",
    "# This plot the cities. It's the same sytax, but we are plotting from a different GeoDataFrame. I want the \n",
    "# cities as pale red dots. \n",
    "gdf.plot(ax=gax, color='red', alpha = 0.5)\n",
    "\n",
    "gax.set_xlabel('longitude')  \n",
    "gax.set_ylabel('latitude')\n",
    "gax.set_title('South America')\n",
    "\n",
    "# Kill the spines...\n",
    "gax.spines['top'].set_visible(False)\n",
    "gax.spines['right'].set_visible(False)\n",
    "\n",
    "# ...or get rid of all the axis. Is it important to know the lat and long?\n",
    "# plt.axis('off')\n",
    "\n",
    "\n",
    "# Label the cities\n",
    "for x, y, label in zip(gdf['Coordinates'].x, gdf['Coordinates'].y, gdf['City']):\n",
    "    gax.annotate(label, xy=(x,y), xytext=(4,4), textcoords='offset points')\n",
    "\n",
    "plt.show()"
   ]
  },
  {
   "cell_type": "markdown",
   "metadata": {},
   "source": [
    "## Practice: Maps\n",
    "On the first day of class, we looked at a map of votes by country in Wisconsin. While we agreed the map wasn't perfect, let's put together something similar. Along the way, we will learn where to find 'shape files' for U.S. states and counties. Shape files hold the polygons of areas. \n",
    "\n",
    "The steps:\n",
    "1. Plot the state border\n",
    "2. Plot the county borders\n",
    "3. Merge data on votes with geographical data\n",
    "4. Color the map\n",
    "\n",
    "We have done a lot this already. Let's get to it. "
   ]
  },
  {
   "cell_type": "markdown",
   "metadata": {},
   "source": [
    "### 1. Plot the state border\n",
    "Go to [https://www.census.gov/geo/maps-data/data/cbf/cbf_state.html](https://www.census.gov/geo/maps-data/data/cbf/cbf_state.html) and download the '5m' state border file. It's a zipped file. Put it in your cwd and uzip it. The file we need is 'cb_2017_us_state_5m.shp' where the 'shp' means 'shape'.\n",
    "\n",
    "Read the shape file into a GeoDataFrame using `geopandas.read_file()` which works other 'read' methods from pandas. "
   ]
  },
  {
   "cell_type": "code",
   "execution_count": null,
   "metadata": {},
   "outputs": [],
   "source": []
  },
  {
   "cell_type": "markdown",
   "metadata": {},
   "source": [
    "This is already set up with the correct geometry and ready to go. \n",
    "\n",
    "Plot the Wisconsin border. "
   ]
  },
  {
   "cell_type": "code",
   "execution_count": null,
   "metadata": {},
   "outputs": [],
   "source": []
  },
  {
   "cell_type": "markdown",
   "metadata": {},
   "source": [
    "### 2. Plot the county borders\n",
    "\n",
    "Let's add the county borders. To do so, we first need to get the shape files from https://www.census.gov/geo/maps-data/data/cbf/cbf_counties.html. Again, let's use the '5m' files.\n",
    "\n",
    "Like before, read the file in to a GeoDataFrame. "
   ]
  },
  {
   "cell_type": "code",
   "execution_count": null,
   "metadata": {},
   "outputs": [],
   "source": []
  },
  {
   "cell_type": "markdown",
   "metadata": {},
   "source": [
    "This GeoDataFrame has all the counties in it. We only want the ones from Wisconsin. The Wisconsin federal state code is 55. Keep only counties from Wisconsin. (A chance to practice our subsetting!) \n"
   ]
  },
  {
   "cell_type": "code",
   "execution_count": null,
   "metadata": {},
   "outputs": [],
   "source": []
  },
  {
   "cell_type": "markdown",
   "metadata": {},
   "source": [
    "Plot the counties onto the same map as the state border. You will probably want to resue the code from above. "
   ]
  },
  {
   "cell_type": "code",
   "execution_count": null,
   "metadata": {},
   "outputs": [],
   "source": []
  },
  {
   "cell_type": "markdown",
   "metadata": {},
   "source": [
    "### 3. Get the vote totals and merge them \n",
    "\n",
    "Time to add the voter totals. I downloaded the results from https://elections.wi.gov/elections-voting/results/2016/fall-general. Go ahead and open up the file. It's a mess! \n",
    "\n",
    "I saved a cleaned up version of the file to 'results.csv' which we can use to save the hassle with cleaning the data. For fun, you should load the raw data and try beating it into shape. That's what you normally would have to do...and, it's fun.\n",
    "\n",
    "Anyway, go ahead and load 'results.csv' to a DataFrame. Note, this is not a GeoDataFrame, this data doesn't have a geometery to it, it just has county names and vote counts. Use the `thousands=','` parameter to read_csv(). "
   ]
  },
  {
   "cell_type": "code",
   "execution_count": null,
   "metadata": {},
   "outputs": [],
   "source": []
  },
  {
   "cell_type": "markdown",
   "metadata": {},
   "source": [
    "The county names in the map data are in title case. The county names in the vote data are in all caps. We know how to fix this up. \n",
    "\n",
    "Convert the county names in the results data to title case. \n",
    "\n",
    "Strip the whitespace out of the county names in the results data, too. (Trust me, there is some extra space in some of the county names...)"
   ]
  },
  {
   "cell_type": "code",
   "execution_count": null,
   "metadata": {},
   "outputs": [],
   "source": []
  },
  {
   "cell_type": "markdown",
   "metadata": {},
   "source": [
    "Now strip any whitespace from the counties GeoDataFrame. \n",
    "\n",
    "Then, merge the county shapes and the results data. "
   ]
  },
  {
   "cell_type": "code",
   "execution_count": null,
   "metadata": {},
   "outputs": [],
   "source": []
  },
  {
   "cell_type": "markdown",
   "metadata": {},
   "source": [
    "Create a variable called 'trump_share' that is the share of trump votes out of the total vote count."
   ]
  },
  {
   "cell_type": "code",
   "execution_count": null,
   "metadata": {
    "scrolled": true
   },
   "outputs": [],
   "source": [
    "\n"
   ]
  },
  {
   "cell_type": "markdown",
   "metadata": {},
   "source": [
    "### 4. Color the map\n",
    "\n",
    "We are creating a chorolpleth map. This means that area are shaded in a color 'proportional' to the data that corresponds to that area. It's easy to do.\n",
    "\n",
    "```python\n",
    "gdf.plot(ax=gax, edgecolor='black', column='trump_share',  legend=True, cmap='Reds')\n",
    "\n",
    "```\n",
    "\n",
    "We only need to add a few extra arguments.\n",
    "\n",
    "1. `column` is set to the column name of the data we want to be 'colored'\n",
    "2. `cmap` determines the color scheme. I am using red colors.\n",
    "3. `legend` turn on the legend\n"
   ]
  },
  {
   "cell_type": "code",
   "execution_count": null,
   "metadata": {},
   "outputs": [],
   "source": []
  },
  {
   "cell_type": "markdown",
   "metadata": {},
   "source": [
    "Are we missing data for Dane county? It's white?\n",
    "\n",
    "10. Print out, in a full sentence, the share of votes for Trump in Dane contry. Express the share with 3 decimal places."
   ]
  },
  {
   "cell_type": "code",
   "execution_count": null,
   "metadata": {},
   "outputs": [],
   "source": []
  }
 ],
 "metadata": {
  "celltoolbar": "Attachments",
  "kernelspec": {
   "display_name": "Python 3",
   "language": "python",
   "name": "python3"
  },
  "language_info": {
   "codemirror_mode": {
    "name": "ipython",
    "version": 3
   },
   "file_extension": ".py",
   "mimetype": "text/x-python",
   "name": "python",
   "nbconvert_exporter": "python",
   "pygments_lexer": "ipython3",
   "version": "3.6.5"
  }
 },
 "nbformat": 4,
 "nbformat_minor": 2
}
