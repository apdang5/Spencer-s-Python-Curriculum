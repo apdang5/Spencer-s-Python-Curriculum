{
 "cells": [
  {
   "cell_type": "markdown",
   "metadata": {},
   "source": [
    "# Maps part II\n",
    "\n",
    "files needed = ('cb_2017_55_tract_500k.shp', 'ACS_16_5YR_B27001_with_ann.csv')\n",
    "\n",
    "We continue working with maps. Today we learn about Census tracts and think about how to call out missing data on a map. Along the way, we will look into the American Communities Survey data. "
   ]
  },
  {
   "cell_type": "code",
   "execution_count": null,
   "metadata": {},
   "outputs": [],
   "source": [
    "import pandas as pd                         # pandas for data management\n",
    "import geopandas                            # geopandas for maps work\n",
    "import matplotlib.pyplot as plt             # matplotlib for plotting details                     "
   ]
  },
  {
   "cell_type": "markdown",
   "metadata": {},
   "source": [
    "### Census tracts\n",
    "Let's take our level of analysis down to the [Census tract](https://factfinder.census.gov/help/en/census_tract.htm). A tract is about the equivalent of a neighborhood. Its shape is 'relatively permanent' but will change occasionally. A tract holds about 4,000 inhabitants on average.   \n",
    "\n",
    "We can find the shapefiles for Census tracts at [https://www.census.gov/geo/maps-data/data/cbf/cbf_tracts.html](https://www.census.gov/geo/maps-data/data/cbf/cbf_tracts.html).\n",
    "\n",
    "Download the Wisconsin country shapefiles and extract the zipped file to your cwd. "
   ]
  },
  {
   "cell_type": "code",
   "execution_count": null,
   "metadata": {},
   "outputs": [],
   "source": [
    "# Read the file into a GeoDataFrame. Note that Wisconsin's FIPS code is 55.\n",
    "tracts = geopandas.read_file('cb_2017_55_tract_500k/cb_2017_55_tract_500k.shp')\n",
    "print(tracts.head(3))\n",
    "print(tracts.geometry.name)\n",
    "print(tracts.shape)\n"
   ]
  },
  {
   "cell_type": "markdown",
   "metadata": {},
   "source": [
    "We have several codes (state, county, tract), square meters of land (ALAND) and water (AWATER), and the geometry data for each tract. There are 1,396 tracts in the data. Let's take a look."
   ]
  },
  {
   "cell_type": "code",
   "execution_count": null,
   "metadata": {},
   "outputs": [],
   "source": [
    "fig, gax = plt.subplots(figsize = (20,10))\n",
    "\n",
    "tracts.plot(ax=gax, edgecolor='black', color='white')\n",
    "\n",
    "gax.set_title('Census tracts in Wisconsin')\n",
    "\n",
    "gax.axis('off')\n",
    "\n",
    "plt.show()"
   ]
  },
  {
   "cell_type": "markdown",
   "metadata": {},
   "source": [
    "Just looking at the map with the tracts give you a pretty good idea where most of the population lives. "
   ]
  },
  {
   "cell_type": "markdown",
   "metadata": {},
   "source": [
    "## Practice\n",
    "\n",
    "Take a few minutes and try the following. Feel free to chat with those around if you get stuck. The TA and I are here, too.\n",
    "\n",
    "1. Zoom in on Dane county --- only plot the tracts in Dane county. Dane's county code is 025. "
   ]
  },
  {
   "cell_type": "code",
   "execution_count": null,
   "metadata": {},
   "outputs": [],
   "source": []
  },
  {
   "cell_type": "markdown",
   "metadata": {},
   "source": [
    "2. Madison's defining geographic feature is its lakes. Color the lakes in blue. \\[Hint: Look for tracts with no land area.\\]"
   ]
  },
  {
   "cell_type": "code",
   "execution_count": null,
   "metadata": {},
   "outputs": [],
   "source": []
  },
  {
   "cell_type": "markdown",
   "metadata": {},
   "source": [
    "### American Community Survey\n",
    "The ACS is a survey that collects data that used to be collected on the 'long-form' U.S. census. This includes data about a household's demographics, income, ancestry, education,...\n",
    "\n",
    "Data are collected on individual households, but the data are confidential. The individual data are aggregated to provide confidentiality when reported. For large areas (states, large counties) data are available at one-year intervals. For smaller areas, such as census tracts or block groups, data are available at five-year intervals.\n",
    "\n",
    "An easy place to find the ACS data is the Census 'American Fact Finder.' Go to [https://factfinder.census.gov/faces/nav/jsf/pages/index.xhtml](https://factfinder.census.gov/faces/nav/jsf/pages/index.xhtml) and choose 'advanced search.'\n",
    "\n",
    "I have already downloaded files on insurance coverage by age and gender. The file 'ACS_16_5YR_B27001_with_ann.csv' has the data."
   ]
  },
  {
   "cell_type": "code",
   "execution_count": null,
   "metadata": {},
   "outputs": [],
   "source": [
    "ins = pd.read_csv('ACS_16_5YR_B27001/ACS_16_5YR_B27001_with_ann.csv')\n",
    "print(ins.head())\n",
    "print(ins.shape)"
   ]
  },
  {
   "cell_type": "markdown",
   "metadata": {},
   "source": [
    "That is a lot of data. We can find the variable names in 'ACS_16_5YR_B27001_metadata.csv'.\n",
    "\n",
    "\n",
    "Let's just keep the data for 18-24 year olds. Keep the total count and those with insurance. We can work out the count without insurance. "
   ]
  },
  {
   "cell_type": "code",
   "execution_count": null,
   "metadata": {},
   "outputs": [],
   "source": [
    "# Keep just these variables\n",
    "vars_to_keep = ['GEO.id2', 'HD01_VD09', 'HD01_VD10', 'HD01_VD37', 'HD01_VD38']\n",
    "ins = ins[vars_to_keep]"
   ]
  },
  {
   "cell_type": "code",
   "execution_count": null,
   "metadata": {},
   "outputs": [],
   "source": [
    "# Rename them to something sensible. I can imagine setting up this data frame with a separate column for gender \n",
    "# and simplifying the variable names. \n",
    "ins = ins.rename(columns={'HD01_VD09':'m1824_total', 'HD01_VD10':'m1824_wins',\n",
    "                          'HD01_VD37':'f1824_total', 'HD01_VD38':'f1824_wins'})\n",
    "ins.head(3)"
   ]
  },
  {
   "cell_type": "markdown",
   "metadata": {},
   "source": [
    "### Merge the geography data with the ACS data\n",
    "We can merge this data with the shapefiles from earlier. The GEOid fields make this very easy. First, let's make sure the data are ready to be merged."
   ]
  },
  {
   "cell_type": "code",
   "execution_count": null,
   "metadata": {},
   "outputs": [],
   "source": [
    "ins.info()"
   ]
  },
  {
   "cell_type": "code",
   "execution_count": null,
   "metadata": {},
   "outputs": [],
   "source": [
    "tracts.info()"
   ]
  },
  {
   "cell_type": "code",
   "execution_count": null,
   "metadata": {},
   "outputs": [],
   "source": [
    "# The GEOID data were stored as strings. Fix it.\n",
    "tracts['GEOID'] = tracts['GEOID'].astype(float)\n",
    "\n",
    "# Now merge. I am using a right merge, since there seem to be more insurance data than tracts?\n",
    "ins_tracts = pd.merge(left=ins, right=tracts, left_on='GEO.id2', right_on='GEOID', how='right')"
   ]
  },
  {
   "cell_type": "markdown",
   "metadata": {},
   "source": [
    "Create a variable that holds the share of people aged 18-24 without insurance. "
   ]
  },
  {
   "cell_type": "code",
   "execution_count": null,
   "metadata": {},
   "outputs": [],
   "source": [
    "ins_tracts['unins'] =  1-(ins_tracts['m1824_wins'] + ins_tracts['f1824_wins']) / (ins_tracts['m1824_total'] + ins_tracts['f1824_total'])"
   ]
  },
  {
   "cell_type": "markdown",
   "metadata": {},
   "source": [
    "Before we can plot, we need to turn the DataFrame into a GeoDataFrame."
   ]
  },
  {
   "cell_type": "code",
   "execution_count": null,
   "metadata": {},
   "outputs": [],
   "source": [
    "# What do we have?\n",
    "print(type(ins_tracts))        \n",
    "\n",
    "# Create a GeoDataFrame by passing a DataFrame and calling out a geometry\n",
    "ins_tracts = geopandas.GeoDataFrame(ins_tracts, geometry = 'geometry')\n",
    "\n",
    "# What do we have now?\n",
    "print(type(ins_tracts))"
   ]
  },
  {
   "cell_type": "code",
   "execution_count": null,
   "metadata": {},
   "outputs": [],
   "source": [
    "ins_tracts['unins'].describe()"
   ]
  },
  {
   "cell_type": "markdown",
   "metadata": {},
   "source": [
    "## Practice\n",
    "\n",
    "1. Plot the uninsured rate for each census tract in Wisconsin. \n"
   ]
  },
  {
   "cell_type": "code",
   "execution_count": null,
   "metadata": {},
   "outputs": [],
   "source": []
  },
  {
   "cell_type": "markdown",
   "metadata": {},
   "source": [
    "Does your map look correct? Did you get an error message? The problem is that a few of the shape files do not have data associated with them. \\[How could you figure that out?\\] These missing values are causing problems. \n",
    "\n",
    "Try plotting only the census tracts that have `ins_tracts['unins']>=0`.\n",
    "\n",
    "Go back and fix up your code."
   ]
  },
  {
   "cell_type": "markdown",
   "metadata": {},
   "source": [
    "We want to mark the census tracts with missing data with hashed lines. If we do not mark them, they will have the background color, and could be mistaken for tracts with unins = 0.\n",
    "\n",
    "2. Start by plotting all the tracts with `ins_tracts['unins']>=0` for Dane county. "
   ]
  },
  {
   "cell_type": "code",
   "execution_count": null,
   "metadata": {},
   "outputs": [],
   "source": []
  },
  {
   "cell_type": "markdown",
   "metadata": {},
   "source": [
    "3. Now, go back and add to your plot, a 'hatched' grey for the areas without data. Something like\n",
    "````python\n",
    ".plot(ax=gax, hatch='///', color='grey')\n",
    "```\n",
    "called on the set of tracts in Dane county that do not have data \\[More subsetting!\\]. Why might you want to make the hashed areas blue?"
   ]
  }
 ],
 "metadata": {
  "celltoolbar": "Attachments",
  "kernelspec": {
   "display_name": "Python 3",
   "language": "python",
   "name": "python3"
  },
  "language_info": {
   "codemirror_mode": {
    "name": "ipython",
    "version": 3
   },
   "file_extension": ".py",
   "mimetype": "text/x-python",
   "name": "python",
   "nbconvert_exporter": "python",
   "pygments_lexer": "ipython3",
   "version": "3.6.5"
  }
 },
 "nbformat": 4,
 "nbformat_minor": 2
}
