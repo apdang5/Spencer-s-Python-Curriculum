{
 "cells": [
  {
   "cell_type": "markdown",
   "metadata": {},
   "source": [
    "# Exam \\#2: Due end of class, November 19\n",
    "\n",
    "**Important:** You need these files to complete this exam: \n",
    "1. exports_by_state_commodity_2002_2017.csv\n",
    "2. imports_by_state_commodity_2008_2017.csv \n",
    "3. state_codes.csv\n",
    "4. Madison_nonstop_routes.csv\n",
    "5. US_airport_locations.csv\n",
    "6. cb_2017_us_state_500k.zip\n",
    "\n",
    "\n",
    "Answer the questions below in a jupyter notebook. You can simply add cells to this notebook and enter your answers. When you are finished, print the notebook and hand it in during class. Be mindful of what you choose to print. A 'head()' statement that only prints a few rows is better than printing an entire DataFrame. \n",
    "\n",
    "\\[To print: From the file menu, choose 'print preview' which will open a new tab with the notebook ready to print. Please print on both sides of paper if possible.\\]\n",
    "\n",
    "A reminder: Ruhl's office hours are T/R 2:30PM-3:30PM in Soc Sci 7444 and McWeeny's office hours are Monday 9:30AM-11:30AM in Soc Sci 6470. Email is always welcome. \n",
    "\n",
    "* You may use your notes, books, and the internet\n",
    "* Do not consult with other people. This work should be entirely your own. "
   ]
  },
  {
   "cell_type": "markdown",
   "metadata": {},
   "source": [
    "# Exercise 0: Your name\n",
    "Replace 'Your name' above with your actual name. Enter it as last name, first name. Don't forget the comma!"
   ]
  },
  {
   "cell_type": "markdown",
   "metadata": {},
   "source": [
    "# Exercise 1: Exports and imports by state\n",
    "\n",
    "The last year has seen an increase in uncertainty about access to foreign markets. NAFTA is renegotiated, the state of trade with China is in flux, and the U.S.-E.U. trade relationship is strained. How would decreased access to foreign markets affect local economies? States that are net exporters would lose revenues and states that are net importers would lose a source of consumer goods and inputs into local industry. How exposed are states to foreign trade?\n",
    "\n",
    "In this question we determine the state-level pattern of trade in agricultural goods. Agricultural trade is big business, so we are starting here, but the analysis could be extended to other industries. What states are agricultural net importers? Net exporters? "
   ]
  },
  {
   "cell_type": "markdown",
   "metadata": {},
   "source": [
    "### Part (a): Create the dataset\n",
    "\n",
    "The files exports_by_state_commodity_2002_2017.csv and imports_by_state_commodity_2008_2017.csv contain data on state-level imports and exports by commodity type. An observation is total export value (or import value) for a state in a given commodity for a given year. \n",
    "\n",
    "The file state_codes.csv contains the two-letter state postal codes. \n",
    "\n",
    "\n",
    "1. Load the import and export data. Clean up the data as needed. \n",
    "2. Merge the export and import data to create a single DataFrame.\n",
    "3. Merge the state postal codes into the DataFrame.\n",
    "3. Create a variable named 'net_exports' that is equal to export value minus import value for each state-commodity-year.\n",
    "4. Create two new columns: one holds log (base 10) exports and the other log (base 10) imports.  \n",
    "4. Display the first 5 lines of your DataFrame.\n"
   ]
  },
  {
   "cell_type": "markdown",
   "metadata": {},
   "source": [
    "### Part (b): Create a plot\n",
    "\n",
    "Create a scatter plot with the following features:\n",
    "\n",
    "0. Keep only the data on Agricultural (code 111) imports and exports for the year 2017.\n",
    "1. The y-axis is log exports. The range is \\[5,11\\]\n",
    "2. The x axis is log imports. The range is \\[5,11\\]\n",
    "3. Plot the 45-degree line as black and dashed.\n",
    "4. A point on the scatter plot is the (log imports, log exports) of each state for the year 2017. The points that lie above the 45-degree line should be blue circles that not filled in. The points that lie below the 45-degree line should be red squares that are not filled in. \n",
    "5. Add the appropriate labels, etc. Make your figure look nice. \n"
   ]
  },
  {
   "cell_type": "markdown",
   "metadata": {},
   "source": [
    "### Part (c): Labels\n",
    "\n",
    "In your plot for part b, print the two-letter postal abbreviation of the state next to its data point for the following states. \n",
    "\n",
    "```python\n",
    "states_to_label = ['OH', 'WI', 'CA', 'TX', 'NY', 'VI', 'DC', 'OK', 'LA', 'RI']\n",
    "```\n",
    "Do it 'programmatically'. By that I mean, do not write 10 separate statements to label 10 points. A loop might be a nice way to go. \\[Or maybe there is a package floating around out there that will do it?\\]\n",
    "\n",
    "Offset the a bit in the y-dimension so that the label is not right on the data marker. "
   ]
  },
  {
   "cell_type": "markdown",
   "metadata": {},
   "source": [
    "# Exercise 2: Plotting airline routes\n",
    "\n",
    "The goal of this exercise is to create a map of all the nonstop airline routes departing from Madison, Wisconsin in the second quarter of 2018.\n",
    "\n",
    "The file Madison_nonstop_routes.csv contains information on the airline, destination airport, and number of passengers transported on each airline route departing from Madison. The file US_airport_locations.csv contains the latitude and longitude of every airport in the United States. Finally, the folder cb_2017_us_state_500k.zip contains the shapefiles for all U.S. states (you will need to unzip it for this exercise).\n",
    "\n",
    "To create the map, carefully follow the instructions below.\n",
    "\n",
    "### Part (a): Merging routes with coordinates of destination airports \n",
    "1. Load Madison_nonstop_routes.csv into a Pandas DataFrame. Then, create a new column that contains a string with the name of the desired color for each airline. Make the routes for American Airlines blue, those for Delta Air Lines red, those for United Airlines yellow, and those for Frontier Airlines green.\n",
    "2. Load US_airport_locations.csv as a Pandas DataFrame. Then merge this DataFrame with the DataFrame created in (1) using `airport_id` as the key. Name the resulting Dataframe `merged`. Make sure you only keep the observations corresponding to the nonstop destinations from Madison.\n",
    "3. In the merged data frame, rename the column `'longitude'` to `'dest_lon'` and the column `'latitude'` to `'dest_lat'`.\n"
   ]
  },
  {
   "cell_type": "markdown",
   "metadata": {},
   "source": [
    "4. As we did in class, create a column called `'dest_coord'` containing a list of each observation's longitude and latitude corrdinates. \\[Hint: We used zip().\\]\n",
    "5. Convert `'dest_coord'` to  Point objects. \n",
    "6. The longitude of Madison's airport is -89.3375 degrees, and its latitude is 43.14 degrees. In the data frame `merged`, create columns named `'origin_lon'` and `'origin_lat'` to contain these points.\n",
    "7. Later on, it will be useful to have two columns in the merged dataframe: one containing the longitude points of both the origin and destination and one containing the latitude points of the origin and destination. Name the columns `'longitude_pair'` and `'latitude_pair'`. The code for creating the longitude column should look something like\n",
    "```python\n",
    "merged['longitude_pair'] = list(zip(merged['origin_lon'], merged['dest_lon']))\n",
    "```"
   ]
  },
  {
   "cell_type": "markdown",
   "metadata": {},
   "source": [
    "### Part (b): Importing the state shapefiles\n",
    "\n",
    "1. Import the shapefile for states as a GeoDataFrame. Convert the column names to lower case.\n",
    "2. Note that the file contains the outlines of serveral territories in addition to the 50 states. We do not need these, and nor do we need Alaska or Hawaii. Thus, in the state data, drop the observations for which `'stusps'` is equal to 'GU', 'MP', 'AS', 'PR', 'VI', 'AK', or 'HI'."
   ]
  },
  {
   "cell_type": "markdown",
   "metadata": {},
   "source": [
    "### Part (c): Making the map\n",
    "\n",
    "1. Plot the outlines of all the states. Make the edges of each state black but make the fill color of each state tan.\n",
    "2. Convert `merged` to a GeoDataFrame called `gdf` with `'dest_coord'` as the geometry. Then, plot the location of each of these destination airports as a black dot on the map.\n",
    "3. Use the `.annotate()` function to label each destination with the appropriate `'airport_id'`. This will require a for-loop.\n",
    "4. Now we need to plot a line between Madison and each destination for each nonstop route for each airline. \n",
    "    1. Wite a for-loop to plot a line corresponding to each route in the `merged` data frame. Then, for each observation, pass the values in the columns `'longitude_pair'` and `'latitude_pair'` to the `.plot()` function.\n",
    "    2. Make a legend describing the color of the line for each airline. **Make sure the legend shows each airline only once! HINT: This will require some clever if-else statements within the for-loop!** \n",
    "5. Finally, plot the location of Madison's airport as a black square and label this point 'MSN'. Remove the axis spines and add an appropriate title for the figure."
   ]
  }
 ],
 "metadata": {
  "celltoolbar": "Attachments",
  "kernelspec": {
   "display_name": "Python 3",
   "language": "python",
   "name": "python3"
  },
  "language_info": {
   "codemirror_mode": {
    "name": "ipython",
    "version": 3
   },
   "file_extension": ".py",
   "mimetype": "text/x-python",
   "name": "python",
   "nbconvert_exporter": "python",
   "pygments_lexer": "ipython3",
   "version": "3.6.5"
  }
 },
 "nbformat": 4,
 "nbformat_minor": 2
}
